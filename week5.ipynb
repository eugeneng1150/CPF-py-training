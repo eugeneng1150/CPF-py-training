{
 "cells": [
  {
   "cell_type": "markdown",
   "id": "7311f71e",
   "metadata": {},
   "source": [
    "## Week 5: File Reading, Writing, and Working with CSV Data Using `pandas`\n",
    "\n",
    "- **Reading from text files** using `open()`, `.read()`, and `.readlines()` to understand file handling basics\n",
    "- **Writing to text files** using `\"w\"` and `\"a\"` modes\n",
    "- **Intro to CSV files**: what they are and why they’re essential in data analytics\n",
    "- Using the `pandas` library to:\n",
    "  - Load CSV data using `pd.read_csv()`\n",
    "  - Explore and inspect data with `.head()`, `.info()`, and `.describe()`\n",
    "  - Filter, compute, and manipulate columns (e.g., calculate average score)\n",
    "  - Export results to a new CSV file using `to_csv()`\n",
    "- Converting DataFrame columns to Python dictionaries with `.to_dict()`\n",
    "- **Practice**:\n",
    "  - Read a list of names and scores from a CSV using `pandas`\n",
    "  - Calculate the average score\n",
    "  - Filter students below average\n",
    "  - Save the results to a new CSV file\n",
    "  - Convert the filtered data to a dictionary\n",
    "\n",
    "## Resources\n",
    "\n",
    "- [Pandas Documentation](https://pandas.pydata.org/docs/)\n",
    "- [Pandas Cheat Sheet (PDF)](https://pandas.pydata.org/Pandas_Cheat_Sheet.pdf)\n",
    "- [Real Python: Data Wrangling with Pandas](https://realpython.com/pandas-python-explore-dataset/)\n",
    "\n"
   ]
  },
  {
   "cell_type": "markdown",
   "id": "eab64387",
   "metadata": {},
   "source": [
    "## File Basics in Python: `open()`, `.read()`, `.readlines()`\n",
    "\n",
    "For Data analytics, it's important to understand how Python reads and writes text files.\n",
    "\n",
    "### 🔸 Reading from Text Files\n",
    "\n",
    "To read a file, use the built-in `open()` function with `\"r\"` (read) mode.\n",
    "\n",
    "```python\n",
    "with open(\"example.txt\", \"r\") as file:\n",
    "    content = file.read()\n",
    "    print(content)\n",
    "```\n",
    "**OR**\n",
    "```py\n",
    "with open(\"example.txt\", \"r\") as file:\n",
    "    lines = file.readlines()\n",
    "    print(lines)\n",
    "```\n",
    "- **.read() vs .readlines()**\n",
    "- .read() → Reads the entire file as a single string.\n",
    "- .readlines() → Reads the file line by line into a list.\n",
    "\n"
   ]
  },
  {
   "cell_type": "code",
   "execution_count": 1,
   "id": "7a5c10dd",
   "metadata": {},
   "outputs": [
    {
     "data": {
      "text/plain": [
       "'💰 A Story About CPF: The Three Jars\\nOnce upon a time in Singapore, there was a young man named Alex who just landed his first full-time job. On his first payday, he was excited — until he noticed a portion of his salary was taken out.\\n\"Where did my money go?\" he wondered.\\nHis HR manager smiled and said, “That’s your CPF contribution. Think of it like this — we’re giving your future a head start.”\\n🏠 The Ordinary Wages and the Three Jars\\nThe money deducted went into three special jars — each with a purpose.\\n1. 🧓 Jar 1: Special Account (SA) – This was for Alex’s retirement savings. The money would grow slowly over time, like a tree planted early.\\n2. 🏡 Jar 2: Ordinary Account (OA) – This was for housing, education, or investment. Someday, Alex could use it to help buy his first flat.\\n3. ❤️ Jar 3: Medisave Account (MA) – This was for medical expenses. If Alex or his family needed to see a doctor or pay for insurance, this jar had him covered.\\nAs Alex grew older, he realized CPF wasn’t just a deduction — it was a foundation. One that supported him in buying a home, staying healthy, and retiring with peace of mind.\\nAnd just like that, he no longer saw CPF as money taken away…  \\nbut money set aside to take care of him\\nThe End.\\n'"
      ]
     },
     "execution_count": 1,
     "metadata": {},
     "output_type": "execute_result"
    }
   ],
   "source": [
    "with open(\"story.txt\", encoding=\"utf-8\") as file:\n",
    "    data = file.read()\n",
    "data"
   ]
  },
  {
   "cell_type": "code",
   "execution_count": 2,
   "id": "a8ee33c7",
   "metadata": {},
   "outputs": [
    {
     "name": "stdout",
     "output_type": "stream",
     "text": [
      "['💰 A Story About CPF: The Three Jars\\n', 'Once upon a time in Singapore, there was a young man named Alex who just landed his first full-time job. On his first payday, he was excited — until he noticed a portion of his salary was taken out.\\n', '\"Where did my money go?\" he wondered.\\n', 'His HR manager smiled and said, “That’s your CPF contribution. Think of it like this — we’re giving your future a head start.”\\n', '🏠 The Ordinary Wages and the Three Jars\\n', 'The money deducted went into three special jars — each with a purpose.\\n', '1. 🧓 Jar 1: Special Account (SA) – This was for Alex’s retirement savings. The money would grow slowly over time, like a tree planted early.\\n', '2. 🏡 Jar 2: Ordinary Account (OA) – This was for housing, education, or investment. Someday, Alex could use it to help buy his first flat.\\n', '3. ❤️ Jar 3: Medisave Account (MA) – This was for medical expenses. If Alex or his family needed to see a doctor or pay for insurance, this jar had him covered.\\n', 'As Alex grew older, he realized CPF wasn’t just a deduction — it was a foundation. One that supported him in buying a home, staying healthy, and retiring with peace of mind.\\n', 'And just like that, he no longer saw CPF as money taken away…  \\n', 'but money set aside to take care of him\\n', 'The End.\\n']\n"
     ]
    }
   ],
   "source": [
    "with open(\"story.txt\", encoding=\"utf-8\") as file:\n",
    "    data = file.readlines()\n",
    "print(data)"
   ]
  },
  {
   "cell_type": "markdown",
   "id": "d8242385",
   "metadata": {},
   "source": [
    "---"
   ]
  },
  {
   "cell_type": "markdown",
   "id": "b852d80a",
   "metadata": {},
   "source": [
    "## 📝 File Basics in Python: `write()`\n",
    "\n",
    "The `write()` function is used to write data to a file. It's part of Python’s built-in file handling system, and it allows you to create or modify the contents of a file.\n"
   ]
  },
  {
   "cell_type": "code",
   "execution_count": 6,
   "id": "05136571",
   "metadata": {},
   "outputs": [],
   "source": [
    "with open(\"filename.txt\", \"w\") as file:\n",
    "    file.write(\"Hello, world!\")"
   ]
  },
  {
   "cell_type": "markdown",
   "id": "02a7a011",
   "metadata": {},
   "source": [
    "- \"w\" stands for write mode. If the file exists, it will overwrite the existing content. If it doesn't, a new file is created.\n",
    "\n",
    "- Always use with open(...) to ensure the file is properly closed after writing.\n",
    "- write() only accepts strings. If you want to write numbers or other types, convert them first:"
   ]
  },
  {
   "cell_type": "code",
   "execution_count": 5,
   "id": "b397c3a1",
   "metadata": {},
   "outputs": [],
   "source": [
    "score = 95\n",
    "with open(\"filename.txt\", \"w\") as file:\n",
    "    file.write(str(score))"
   ]
  },
  {
   "cell_type": "markdown",
   "id": "fd33b079",
   "metadata": {},
   "source": [
    "---"
   ]
  },
  {
   "cell_type": "markdown",
   "id": "d8505bbe",
   "metadata": {},
   "source": [
    "## ➕ File Basics in Python: `append (a)` Mode\n",
    "\n",
    "The `\"a\"` mode in Python is used to **append data to the end of a file**. It is part of the file handling system and is useful when you want to add new content **without deleting existing content**.\n",
    "\n"
   ]
  },
  {
   "cell_type": "code",
   "execution_count": 7,
   "id": "6e560c7c",
   "metadata": {},
   "outputs": [],
   "source": [
    "with open(\"filename.txt\", \"a\") as file:\n",
    "    file.write(\"This new line will be added at the end.\\n\")"
   ]
  },
  {
   "cell_type": "markdown",
   "id": "d47a689e",
   "metadata": {},
   "source": [
    "- \"a\" stands for append mode.\n",
    "\n",
    "- If the file does not exist, it will be created.\n",
    "\n",
    "- If the file does exist, new content will be added at the end without overwriting the original data."
   ]
  },
  {
   "cell_type": "markdown",
   "id": "c706e7e4",
   "metadata": {},
   "source": [
    "---"
   ]
  },
  {
   "cell_type": "markdown",
   "id": "dfa0e81a",
   "metadata": {},
   "source": [
    "## 📥 Loading CSV Files with `pandas.read_csv()`\n",
    "\n",
    "The `read_csv()` function in `pandas` is the most common way to **load data from a CSV file** into a DataFrame — which is like an Excel table in Python.\n"
   ]
  },
  {
   "cell_type": "code",
   "execution_count": null,
   "id": "214ceed7",
   "metadata": {},
   "outputs": [
    {
     "name": "stdout",
     "output_type": "stream",
     "text": [
      "Requirement already satisfied: pandas in c:\\users\\eugen\\cpf-py-training\\.venv\\lib\\site-packages (2.2.3)\n",
      "Requirement already satisfied: numpy>=1.26.0 in c:\\users\\eugen\\cpf-py-training\\.venv\\lib\\site-packages (from pandas) (2.2.6)\n",
      "Requirement already satisfied: python-dateutil>=2.8.2 in c:\\users\\eugen\\cpf-py-training\\.venv\\lib\\site-packages (from pandas) (2.9.0.post0)\n",
      "Requirement already satisfied: pytz>=2020.1 in c:\\users\\eugen\\cpf-py-training\\.venv\\lib\\site-packages (from pandas) (2025.2)\n",
      "Requirement already satisfied: tzdata>=2022.7 in c:\\users\\eugen\\cpf-py-training\\.venv\\lib\\site-packages (from pandas) (2025.2)\n",
      "Requirement already satisfied: six>=1.5 in c:\\users\\eugen\\cpf-py-training\\.venv\\lib\\site-packages (from python-dateutil>=2.8.2->pandas) (1.17.0)\n",
      "Note: you may need to restart the kernel to use updated packages.\n"
     ]
    }
   ],
   "source": [
    "# %pip install pandas\n",
    "import pandas\n",
    "data = pandas.read_csv(\"students_score.csv\")"
   ]
  },
  {
   "cell_type": "markdown",
   "id": "1ef83c26",
   "metadata": {},
   "source": [
    "## 🔍 Exploring DataFrames in `pandas`: `.head()`, `.info()`, `.describe()`\n",
    "\n",
    "Once you've read in your CSV using `pd.read_csv()`, use these methods to **quickly explore your data**:\n"
   ]
  },
  {
   "cell_type": "markdown",
   "id": "dfecd9a5",
   "metadata": {},
   "source": [
    "**`.head()`**"
   ]
  },
  {
   "cell_type": "code",
   "execution_count": 9,
   "id": "85a78f6b",
   "metadata": {},
   "outputs": [
    {
     "data": {
      "text/html": [
       "<div>\n",
       "<style scoped>\n",
       "    .dataframe tbody tr th:only-of-type {\n",
       "        vertical-align: middle;\n",
       "    }\n",
       "\n",
       "    .dataframe tbody tr th {\n",
       "        vertical-align: top;\n",
       "    }\n",
       "\n",
       "    .dataframe thead th {\n",
       "        text-align: right;\n",
       "    }\n",
       "</style>\n",
       "<table border=\"1\" class=\"dataframe\">\n",
       "  <thead>\n",
       "    <tr style=\"text-align: right;\">\n",
       "      <th></th>\n",
       "      <th>name</th>\n",
       "      <th>gender</th>\n",
       "      <th>subject</th>\n",
       "      <th>score</th>\n",
       "    </tr>\n",
       "  </thead>\n",
       "  <tbody>\n",
       "    <tr>\n",
       "      <th>0</th>\n",
       "      <td>George</td>\n",
       "      <td>male</td>\n",
       "      <td>Math</td>\n",
       "      <td>55</td>\n",
       "    </tr>\n",
       "    <tr>\n",
       "      <th>1</th>\n",
       "      <td>Ian</td>\n",
       "      <td>male</td>\n",
       "      <td>English</td>\n",
       "      <td>64</td>\n",
       "    </tr>\n",
       "    <tr>\n",
       "      <th>2</th>\n",
       "      <td>Charlie</td>\n",
       "      <td>male</td>\n",
       "      <td>English</td>\n",
       "      <td>53</td>\n",
       "    </tr>\n",
       "    <tr>\n",
       "      <th>3</th>\n",
       "      <td>Fiona</td>\n",
       "      <td>female</td>\n",
       "      <td>Science</td>\n",
       "      <td>60</td>\n",
       "    </tr>\n",
       "    <tr>\n",
       "      <th>4</th>\n",
       "      <td>Ethan</td>\n",
       "      <td>male</td>\n",
       "      <td>English</td>\n",
       "      <td>98</td>\n",
       "    </tr>\n",
       "  </tbody>\n",
       "</table>\n",
       "</div>"
      ],
      "text/plain": [
       "      name  gender  subject  score\n",
       "0   George    male     Math     55\n",
       "1      Ian    male  English     64\n",
       "2  Charlie    male  English     53\n",
       "3    Fiona  female  Science     60\n",
       "4    Ethan    male  English     98"
      ]
     },
     "execution_count": 9,
     "metadata": {},
     "output_type": "execute_result"
    }
   ],
   "source": [
    "data.head()"
   ]
  },
  {
   "cell_type": "markdown",
   "id": "ec703c62",
   "metadata": {},
   "source": [
    "- Shows the first 5 rows of the DataFrame.\n",
    "\n",
    "- Helps you confirm the data loaded correctly.\n",
    "\n",
    "- Optional: df.head(10) to see the first 10 rows."
   ]
  },
  {
   "cell_type": "markdown",
   "id": "2afef7bb",
   "metadata": {},
   "source": [
    "**`.info()`**"
   ]
  },
  {
   "cell_type": "code",
   "execution_count": 10,
   "id": "92b5c1a7",
   "metadata": {},
   "outputs": [
    {
     "name": "stdout",
     "output_type": "stream",
     "text": [
      "<class 'pandas.core.frame.DataFrame'>\n",
      "RangeIndex: 50 entries, 0 to 49\n",
      "Data columns (total 4 columns):\n",
      " #   Column   Non-Null Count  Dtype \n",
      "---  ------   --------------  ----- \n",
      " 0   name     50 non-null     object\n",
      " 1   gender   50 non-null     object\n",
      " 2   subject  50 non-null     object\n",
      " 3   score    50 non-null     int64 \n",
      "dtypes: int64(1), object(3)\n",
      "memory usage: 1.7+ KB\n"
     ]
    }
   ],
   "source": [
    "data.info()"
   ]
  },
  {
   "cell_type": "markdown",
   "id": "948d6735",
   "metadata": {},
   "source": [
    "- Gives a summary of the DataFrame:\n",
    "\n",
    "- Number of rows and columns\n",
    "\n",
    "- Column names and data types\n",
    "\n",
    "- Number of non-null values\n",
    "\n",
    "- Useful for checking for missing data and data types before cleaning."
   ]
  },
  {
   "cell_type": "markdown",
   "id": "1d9167f2",
   "metadata": {},
   "source": [
    "**`.describe()`**"
   ]
  },
  {
   "cell_type": "code",
   "execution_count": 11,
   "id": "eca83f08",
   "metadata": {},
   "outputs": [
    {
     "data": {
      "text/html": [
       "<div>\n",
       "<style scoped>\n",
       "    .dataframe tbody tr th:only-of-type {\n",
       "        vertical-align: middle;\n",
       "    }\n",
       "\n",
       "    .dataframe tbody tr th {\n",
       "        vertical-align: top;\n",
       "    }\n",
       "\n",
       "    .dataframe thead th {\n",
       "        text-align: right;\n",
       "    }\n",
       "</style>\n",
       "<table border=\"1\" class=\"dataframe\">\n",
       "  <thead>\n",
       "    <tr style=\"text-align: right;\">\n",
       "      <th></th>\n",
       "      <th>score</th>\n",
       "    </tr>\n",
       "  </thead>\n",
       "  <tbody>\n",
       "    <tr>\n",
       "      <th>count</th>\n",
       "      <td>50.000000</td>\n",
       "    </tr>\n",
       "    <tr>\n",
       "      <th>mean</th>\n",
       "      <td>75.580000</td>\n",
       "    </tr>\n",
       "    <tr>\n",
       "      <th>std</th>\n",
       "      <td>15.950293</td>\n",
       "    </tr>\n",
       "    <tr>\n",
       "      <th>min</th>\n",
       "      <td>53.000000</td>\n",
       "    </tr>\n",
       "    <tr>\n",
       "      <th>25%</th>\n",
       "      <td>58.250000</td>\n",
       "    </tr>\n",
       "    <tr>\n",
       "      <th>50%</th>\n",
       "      <td>77.500000</td>\n",
       "    </tr>\n",
       "    <tr>\n",
       "      <th>75%</th>\n",
       "      <td>89.750000</td>\n",
       "    </tr>\n",
       "    <tr>\n",
       "      <th>max</th>\n",
       "      <td>100.000000</td>\n",
       "    </tr>\n",
       "  </tbody>\n",
       "</table>\n",
       "</div>"
      ],
      "text/plain": [
       "            score\n",
       "count   50.000000\n",
       "mean    75.580000\n",
       "std     15.950293\n",
       "min     53.000000\n",
       "25%     58.250000\n",
       "50%     77.500000\n",
       "75%     89.750000\n",
       "max    100.000000"
      ]
     },
     "execution_count": 11,
     "metadata": {},
     "output_type": "execute_result"
    }
   ],
   "source": [
    "data.describe()"
   ]
  },
  {
   "cell_type": "markdown",
   "id": "3bb353d5",
   "metadata": {},
   "source": [
    "---"
   ]
  },
  {
   "cell_type": "markdown",
   "id": "b5c5800c",
   "metadata": {},
   "source": [
    "## Filtering Rows in a `pandas` DataFrame\n",
    "\n",
    "Filtering lets you select specific rows that match a condition — like “scores above 80” or “name is Alice.\n",
    "\n",
    "### 🔹 Basic Syntax:\n",
    "\n",
    "```python\n",
    "filtered_df = df[ df[\"column_name\"] condition ]\n",
    "```"
   ]
  },
  {
   "cell_type": "code",
   "execution_count": 15,
   "id": "49926b02",
   "metadata": {},
   "outputs": [],
   "source": [
    "filtered_df = data[data[\"score\"] >70]\n",
    "## Try printing it out to see what you get.\n",
    "## filtered_df.head()"
   ]
  },
  {
   "cell_type": "markdown",
   "id": "aa9d1434",
   "metadata": {},
   "source": [
    "```py\n",
    "df[\"Score\"] > 80\n",
    "```\n",
    "→ Returns a Series of booleans like this:"
   ]
  },
  {
   "cell_type": "markdown",
   "id": "79e66b1b",
   "metadata": {},
   "source": [
    "0     True  \n",
    "1    False  \n",
    "2     True  \n",
    "3    False  \n",
    "...  \n",
    "**Telling the data to give the rows of df where the condition inside the brackets is True.**\n"
   ]
  },
  {
   "cell_type": "markdown",
   "id": "15c23001",
   "metadata": {},
   "source": [
    "## ❌ Common Mistake:\n",
    "\n",
    "### This won't work:\n",
    "\n",
    "```python\n",
    "df[\"Score\"] > 80\n",
    "```\n",
    "- It only gives you the condition — not the filtered DataFrame.\n",
    "- You're just generating a Series of True and False values."
   ]
  },
  {
   "cell_type": "markdown",
   "id": "f82bfc00",
   "metadata": {},
   "source": [
    "## ✅ Correct:\n",
    "```py\n",
    "df[ df[\"Score\"] > 80 ]\n",
    "```\n",
    "It gives you a new filtered DataFrame with only the rows you want — where the Score is greater than 80."
   ]
  },
  {
   "cell_type": "markdown",
   "id": "8ac9903c",
   "metadata": {},
   "source": [
    "## Hands on Quiz"
   ]
  },
  {
   "cell_type": "markdown",
   "id": "8873b978",
   "metadata": {},
   "source": [
    "1) Read the CSV into a DataFrame.\n",
    "\n",
    "2) Print the first 3 rows.\n",
    "\n",
    "3) Print the summary statistics using .describe().\n",
    "\n",
    "4) Filter the DataFrame to include only students who scored above 70 \n",
    "5) Find the new mean and the number of rows in the new filtered Dataframe   \n",
    "\n",
    "6) Write the filtered DataFrame to a new file called high_scores.csv."
   ]
  },
  {
   "cell_type": "code",
   "execution_count": 13,
   "id": "e9da68a1",
   "metadata": {},
   "outputs": [
    {
     "data": {
      "text/html": [
       "<div>\n",
       "<style scoped>\n",
       "    .dataframe tbody tr th:only-of-type {\n",
       "        vertical-align: middle;\n",
       "    }\n",
       "\n",
       "    .dataframe tbody tr th {\n",
       "        vertical-align: top;\n",
       "    }\n",
       "\n",
       "    .dataframe thead th {\n",
       "        text-align: right;\n",
       "    }\n",
       "</style>\n",
       "<table border=\"1\" class=\"dataframe\">\n",
       "  <thead>\n",
       "    <tr style=\"text-align: right;\">\n",
       "      <th></th>\n",
       "      <th>name</th>\n",
       "      <th>gender</th>\n",
       "      <th>subject</th>\n",
       "      <th>score</th>\n",
       "    </tr>\n",
       "  </thead>\n",
       "  <tbody>\n",
       "    <tr>\n",
       "      <th>0</th>\n",
       "      <td>George</td>\n",
       "      <td>male</td>\n",
       "      <td>Math</td>\n",
       "      <td>55</td>\n",
       "    </tr>\n",
       "    <tr>\n",
       "      <th>1</th>\n",
       "      <td>Ian</td>\n",
       "      <td>male</td>\n",
       "      <td>English</td>\n",
       "      <td>64</td>\n",
       "    </tr>\n",
       "    <tr>\n",
       "      <th>2</th>\n",
       "      <td>Charlie</td>\n",
       "      <td>male</td>\n",
       "      <td>English</td>\n",
       "      <td>53</td>\n",
       "    </tr>\n",
       "  </tbody>\n",
       "</table>\n",
       "</div>"
      ],
      "text/plain": [
       "      name gender  subject  score\n",
       "0   George   male     Math     55\n",
       "1      Ian   male  English     64\n",
       "2  Charlie   male  English     53"
      ]
     },
     "execution_count": 13,
     "metadata": {},
     "output_type": "execute_result"
    }
   ],
   "source": [
    "data = pandas.read_csv(\"students_score.csv\")\n",
    "data.head(3)"
   ]
  },
  {
   "cell_type": "code",
   "execution_count": 33,
   "id": "44593aec",
   "metadata": {},
   "outputs": [
    {
     "data": {
      "text/html": [
       "<div>\n",
       "<style scoped>\n",
       "    .dataframe tbody tr th:only-of-type {\n",
       "        vertical-align: middle;\n",
       "    }\n",
       "\n",
       "    .dataframe tbody tr th {\n",
       "        vertical-align: top;\n",
       "    }\n",
       "\n",
       "    .dataframe thead th {\n",
       "        text-align: right;\n",
       "    }\n",
       "</style>\n",
       "<table border=\"1\" class=\"dataframe\">\n",
       "  <thead>\n",
       "    <tr style=\"text-align: right;\">\n",
       "      <th></th>\n",
       "      <th>score</th>\n",
       "    </tr>\n",
       "  </thead>\n",
       "  <tbody>\n",
       "    <tr>\n",
       "      <th>count</th>\n",
       "      <td>50.000000</td>\n",
       "    </tr>\n",
       "    <tr>\n",
       "      <th>mean</th>\n",
       "      <td>75.580000</td>\n",
       "    </tr>\n",
       "    <tr>\n",
       "      <th>std</th>\n",
       "      <td>15.950293</td>\n",
       "    </tr>\n",
       "    <tr>\n",
       "      <th>min</th>\n",
       "      <td>53.000000</td>\n",
       "    </tr>\n",
       "    <tr>\n",
       "      <th>25%</th>\n",
       "      <td>58.250000</td>\n",
       "    </tr>\n",
       "    <tr>\n",
       "      <th>50%</th>\n",
       "      <td>77.500000</td>\n",
       "    </tr>\n",
       "    <tr>\n",
       "      <th>75%</th>\n",
       "      <td>89.750000</td>\n",
       "    </tr>\n",
       "    <tr>\n",
       "      <th>max</th>\n",
       "      <td>100.000000</td>\n",
       "    </tr>\n",
       "  </tbody>\n",
       "</table>\n",
       "</div>"
      ],
      "text/plain": [
       "            score\n",
       "count   50.000000\n",
       "mean    75.580000\n",
       "std     15.950293\n",
       "min     53.000000\n",
       "25%     58.250000\n",
       "50%     77.500000\n",
       "75%     89.750000\n",
       "max    100.000000"
      ]
     },
     "execution_count": 33,
     "metadata": {},
     "output_type": "execute_result"
    }
   ],
   "source": [
    "data.describe()"
   ]
  },
  {
   "cell_type": "code",
   "execution_count": 34,
   "id": "db8841f9",
   "metadata": {},
   "outputs": [],
   "source": [
    "data = data[data['score'] > 70]"
   ]
  },
  {
   "cell_type": "code",
   "execution_count": 35,
   "id": "a67e6370",
   "metadata": {},
   "outputs": [
    {
     "data": {
      "text/html": [
       "<div>\n",
       "<style scoped>\n",
       "    .dataframe tbody tr th:only-of-type {\n",
       "        vertical-align: middle;\n",
       "    }\n",
       "\n",
       "    .dataframe tbody tr th {\n",
       "        vertical-align: top;\n",
       "    }\n",
       "\n",
       "    .dataframe thead th {\n",
       "        text-align: right;\n",
       "    }\n",
       "</style>\n",
       "<table border=\"1\" class=\"dataframe\">\n",
       "  <thead>\n",
       "    <tr style=\"text-align: right;\">\n",
       "      <th></th>\n",
       "      <th>score</th>\n",
       "    </tr>\n",
       "  </thead>\n",
       "  <tbody>\n",
       "    <tr>\n",
       "      <th>count</th>\n",
       "      <td>29.000000</td>\n",
       "    </tr>\n",
       "    <tr>\n",
       "      <th>mean</th>\n",
       "      <td>87.551724</td>\n",
       "    </tr>\n",
       "    <tr>\n",
       "      <th>std</th>\n",
       "      <td>8.415913</td>\n",
       "    </tr>\n",
       "    <tr>\n",
       "      <th>min</th>\n",
       "      <td>73.000000</td>\n",
       "    </tr>\n",
       "    <tr>\n",
       "      <th>25%</th>\n",
       "      <td>80.000000</td>\n",
       "    </tr>\n",
       "    <tr>\n",
       "      <th>50%</th>\n",
       "      <td>89.000000</td>\n",
       "    </tr>\n",
       "    <tr>\n",
       "      <th>75%</th>\n",
       "      <td>93.000000</td>\n",
       "    </tr>\n",
       "    <tr>\n",
       "      <th>max</th>\n",
       "      <td>100.000000</td>\n",
       "    </tr>\n",
       "  </tbody>\n",
       "</table>\n",
       "</div>"
      ],
      "text/plain": [
       "            score\n",
       "count   29.000000\n",
       "mean    87.551724\n",
       "std      8.415913\n",
       "min     73.000000\n",
       "25%     80.000000\n",
       "50%     89.000000\n",
       "75%     93.000000\n",
       "max    100.000000"
      ]
     },
     "execution_count": 35,
     "metadata": {},
     "output_type": "execute_result"
    }
   ],
   "source": [
    "data.describe()"
   ]
  },
  {
   "cell_type": "code",
   "execution_count": 36,
   "id": "099ec0fb",
   "metadata": {},
   "outputs": [
    {
     "name": "stdout",
     "output_type": "stream",
     "text": [
      "<class 'pandas.core.frame.DataFrame'>\n",
      "Index: 29 entries, 4 to 47\n",
      "Data columns (total 4 columns):\n",
      " #   Column   Non-Null Count  Dtype \n",
      "---  ------   --------------  ----- \n",
      " 0   name     29 non-null     object\n",
      " 1   gender   29 non-null     object\n",
      " 2   subject  29 non-null     object\n",
      " 3   score    29 non-null     int64 \n",
      "dtypes: int64(1), object(3)\n",
      "memory usage: 1.1+ KB\n"
     ]
    }
   ],
   "source": [
    "data.info()"
   ]
  },
  {
   "cell_type": "code",
   "execution_count": null,
   "id": "a0ecc75e",
   "metadata": {},
   "outputs": [],
   "source": []
  }
 ],
 "metadata": {
  "kernelspec": {
   "display_name": ".venv",
   "language": "python",
   "name": "python3"
  },
  "language_info": {
   "codemirror_mode": {
    "name": "ipython",
    "version": 3
   },
   "file_extension": ".py",
   "mimetype": "text/x-python",
   "name": "python",
   "nbconvert_exporter": "python",
   "pygments_lexer": "ipython3",
   "version": "3.12.4"
  }
 },
 "nbformat": 4,
 "nbformat_minor": 5
}
