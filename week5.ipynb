{
 "cells": [
  {
   "cell_type": "markdown",
   "id": "7311f71e",
   "metadata": {},
   "source": [
    "### Week 5: File Reading, Writing and Working with CSV Data\n",
    "\n",
    "- **Reading from text files** using `open()`, `.read()`, `.readlines()`\n",
    "- **Writing to text files** with `\"w\"` and `\"a\"` modes\n",
    "- **Intro to CSV files**: what they are and why they’re used in data analytics\n",
    "- Using Python's built-in `csv` module to:\n",
    "  - Read rows from a CSV file\n",
    "  - Write rows to a CSV file\n",
    "- Handling headers and converting CSV rows into dictionaries using `csv.DictReader`\n",
    "- **Practice**:\n",
    "  - Read a list of names and scores from a CSV and store them in a dictionary\n",
    "  - Calculate average score and write results to a new file\n"
   ]
  },
  {
   "cell_type": "markdown",
   "id": "eab64387",
   "metadata": {},
   "source": [
    "## File Basics in Python: `open()`, `.read()`, `.readlines()`\n",
    "\n",
    "For Data analytics, it's important to understand how Python reads and writes text files.\n",
    "\n",
    "### 🔸 Reading from Text Files\n",
    "\n",
    "To read a file, use the built-in `open()` function with `\"r\"` (read) mode.\n",
    "\n",
    "```python\n",
    "with open(\"example.txt\", \"r\") as file:\n",
    "    content = file.read()\n",
    "    print(content)\n",
    "```\n",
    "**OR**\n",
    "```py\n",
    "with open(\"example.txt\", \"r\") as file:\n",
    "    lines = file.readlines()\n",
    "    print(lines)\n",
    "```\n",
    "- **.read() vs .readlines()**\n",
    "- .read() → Reads the entire file as a single string.\n",
    "- .readlines() → Reads the file line by line into a list.\n",
    "\n"
   ]
  },
  {
   "cell_type": "code",
   "execution_count": 13,
   "id": "7a5c10dd",
   "metadata": {},
   "outputs": [
    {
     "data": {
      "text/plain": [
       "'💰 A Story About CPF: The Three Jars\\nOnce upon a time in Singapore, there was a young man named Alex who just landed his first full-time job. On his first payday, he was excited — until he noticed a portion of his salary was taken out.\\n\"Where did my money go?\" he wondered.\\nHis HR manager smiled and said, “That’s your CPF contribution. Think of it like this — we’re giving your future a head start.”\\n🏠 The Ordinary Wages and the Three Jars\\nThe money deducted went into three special jars — each with a purpose.\\n1. 🧓 Jar 1: Special Account (SA) – This was for Alex’s retirement savings. The money would grow slowly over time, like a tree planted early.\\n2. 🏡 Jar 2: Ordinary Account (OA) – This was for housing, education, or investment. Someday, Alex could use it to help buy his first flat.\\n3. ❤️ Jar 3: Medisave Account (MA) – This was for medical expenses. If Alex or his family needed to see a doctor or pay for insurance, this jar had him covered.\\nAs Alex grew older, he realized CPF wasn’t just a deduction — it was a foundation. One that supported him in buying a home, staying healthy, and retiring with peace of mind.\\nAnd just like that, he no longer saw CPF as money taken away…  \\nbut money set aside to take care of him\\nThe End.\\n'"
      ]
     },
     "execution_count": 13,
     "metadata": {},
     "output_type": "execute_result"
    }
   ],
   "source": [
    "with open(\"story.txt\", encoding=\"utf-8\") as file:\n",
    "    data = file.read()\n",
    "data"
   ]
  },
  {
   "cell_type": "code",
   "execution_count": 14,
   "id": "a8ee33c7",
   "metadata": {},
   "outputs": [
    {
     "name": "stdout",
     "output_type": "stream",
     "text": [
      "['💰 A Story About CPF: The Three Jars\\n', 'Once upon a time in Singapore, there was a young man named Alex who just landed his first full-time job. On his first payday, he was excited — until he noticed a portion of his salary was taken out.\\n', '\"Where did my money go?\" he wondered.\\n', 'His HR manager smiled and said, “That’s your CPF contribution. Think of it like this — we’re giving your future a head start.”\\n', '🏠 The Ordinary Wages and the Three Jars\\n', 'The money deducted went into three special jars — each with a purpose.\\n', '1. 🧓 Jar 1: Special Account (SA) – This was for Alex’s retirement savings. The money would grow slowly over time, like a tree planted early.\\n', '2. 🏡 Jar 2: Ordinary Account (OA) – This was for housing, education, or investment. Someday, Alex could use it to help buy his first flat.\\n', '3. ❤️ Jar 3: Medisave Account (MA) – This was for medical expenses. If Alex or his family needed to see a doctor or pay for insurance, this jar had him covered.\\n', 'As Alex grew older, he realized CPF wasn’t just a deduction — it was a foundation. One that supported him in buying a home, staying healthy, and retiring with peace of mind.\\n', 'And just like that, he no longer saw CPF as money taken away…  \\n', 'but money set aside to take care of him\\n', 'The End.\\n']\n"
     ]
    }
   ],
   "source": [
    "with open(\"story.txt\", encoding=\"utf-8\") as file:\n",
    "    data = file.readlines()\n",
    "print(data)"
   ]
  },
  {
   "cell_type": "markdown",
   "id": "d8242385",
   "metadata": {},
   "source": [
    "---"
   ]
  },
  {
   "cell_type": "markdown",
   "id": "b852d80a",
   "metadata": {},
   "source": [
    "## File Basics in Python: `write()`\n"
   ]
  },
  {
   "cell_type": "code",
   "execution_count": null,
   "id": "05136571",
   "metadata": {},
   "outputs": [],
   "source": []
  }
 ],
 "metadata": {
  "kernelspec": {
   "display_name": ".venv",
   "language": "python",
   "name": "python3"
  },
  "language_info": {
   "codemirror_mode": {
    "name": "ipython",
    "version": 3
   },
   "file_extension": ".py",
   "mimetype": "text/x-python",
   "name": "python",
   "nbconvert_exporter": "python",
   "pygments_lexer": "ipython3",
   "version": "3.12.4"
  }
 },
 "nbformat": 4,
 "nbformat_minor": 5
}
