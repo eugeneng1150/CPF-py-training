{
 "cells": [
  {
   "cell_type": "markdown",
   "id": "8c785d3a",
   "metadata": {},
   "source": [
    "# Week 3: Writing and Using Functions\n",
    "\n",
    "- Defining and calling functions using `def`\n",
    "- Using parameters and `return` values\n",
    "- Exploring local vs global variable scope\n",
    "- Practice: breaking code into reusable parts using functions\n"
   ]
  },
  {
   "cell_type": "markdown",
   "id": "47c1acdd",
   "metadata": {},
   "source": [
    "## Defining and Calling a Function\n",
    "\n",
    "In Python, a function is a reusable block of code that performs a specific task. You define a function using the `def` keyword, followed by the function name and parentheses `()`.\n",
    "\n",
    "### Basic Example (no arguments):\n",
    "```python\n",
    "def greet():\n",
    "    print(\"Hello!\")\n",
    "```\n",
    "\n",
    "This defines a function named `greet`. To run (or \"call\") the function, simply use:\n",
    "```python\n",
    "greet()\n",
    "```\n",
    "\n",
    "**Output:**\n",
    "```\n",
    "Hello!\n",
    "```\n",
    "\n",
    "---\n",
    "\n",
    "### Adding Arguments (Parameters)\n",
    "\n",
    "You can pass values into a function using **parameters** inside the parentheses:\n",
    "\n",
    "```python\n",
    "def greet(name):\n",
    "    print(\"Hello,\", name)\n",
    "```\n",
    "\n",
    "Call it like this:\n",
    "```python\n",
    "greet(\"Alice\")\n",
    "```\n",
    "\n",
    "**Output:**\n",
    "```\n",
    "Hello, Alice\n",
    "```\n",
    "\n",
    "---\n",
    "\n",
    "## Understanding `print()` vs `return` in Functions\n",
    "\n",
    "When writing functions in Python, it's important to understand the difference between using `print()` and `return`.\n",
    "\n",
    "---\n",
    "\n",
    "### 🔹 `print()`\n",
    "\n",
    "- Displays a message or value to the screen (standard output).\n",
    "- Meant for the **user** to see.\n",
    "- It does **not** give back a value you can store or reuse in your program.\n",
    "\n",
    "```python\n",
    "def say_hello():\n",
    "    print(\"Hello!\")\n",
    "\n",
    "say_hello()  # Output: Hello!\n",
    "```\n",
    "\n",
    "But this returns nothing to the program:\n",
    "```python\n",
    "result = say_hello()\n",
    "print(result)  # Output: None\n",
    "```\n",
    "\n",
    "---\n",
    "\n",
    "### 🔹 `return`\n",
    "\n",
    "- Sends a value **back to the caller**.\n",
    "- Allows the function’s output to be stored, reused, or passed into other code.\n",
    "- Does **not** automatically display anything on screen.\n",
    "\n",
    "```python\n",
    "def get_greeting():\n",
    "    return \"Hello!\"\n",
    "\n",
    "message = get_greeting()\n",
    "print(message)  # Output: Hello!\n",
    "```\n",
    "\n",
    "---\n",
    "\n",
    "### When to use what?\n",
    "\n",
    "| Use `print()` when...         | Use `return` when...                        |\n",
    "|------------------------------|---------------------------------------------|\n",
    "| You want to show output to user | You want to save the result for later use  |\n",
    "| For debugging or quick checks | For calculations or data processing logic  |\n",
    "\n",
    "---\n",
    "\n",
    "**Tip:** You can use both in the same function, but they serve different purposes:\n",
    "```python\n",
    "def multiply(a, b):\n",
    "    result = a * b\n",
    "    print(\"Result is:\", result)  # for user\n",
    "    return result                # for code\n",
    "```\n",
    "### We usually use return in the function !\n"
   ]
  },
  {
   "cell_type": "code",
   "execution_count": null,
   "id": "c0134cc6",
   "metadata": {},
   "outputs": [
    {
     "name": "stdout",
     "output_type": "stream",
     "text": [
      "32.0\n",
      "212.0\n"
     ]
    }
   ],
   "source": [
    "# Define a function named convert_to_fahrenheit\n",
    "# It should take one parameter: celsius\n",
    "# It should return the temperature in Fahrenheit\n",
    "\n",
    "# Formula: F = (C × 9/5) + 32\n",
    "\n",
    "# Example: convert_to_fahrenheit(0) → 32.0\n",
    "#------------------------------\n",
    "# Code here: \n",
    "\n",
    "#-----------------------------\n",
    "# print(convert_to_fahrenheit(0))    # 32.0\n",
    "# print(convert_to_fahrenheit(100))  # 212.0\n"
   ]
  },
  {
   "cell_type": "code",
   "execution_count": null,
   "id": "6b9169dc",
   "metadata": {},
   "outputs": [
    {
     "data": {
      "text/plain": [
       "3"
      ]
     },
     "execution_count": 6,
     "metadata": {},
     "output_type": "execute_result"
    }
   ],
   "source": [
    "# Define a function called count_even_numbers\n",
    "# It should take a list of integers as input\n",
    "# It should return the count of even numbers in the list\n",
    "\n",
    "#------------------------------\n",
    "# Code here: \n",
    "\n",
    "#-----------------------------\n",
    "\n",
    "# Example: count_even_numbers([1, 2, 3, 4, 5, 6]) → 3\n"
   ]
  },
  {
   "cell_type": "markdown",
   "id": "a27bd19f",
   "metadata": {},
   "source": [
    "## Local vs Global Scope in Python\n",
    "\n",
    "Variables in Python have **scope**, which determines where they can be accessed or modified.\n",
    "\n",
    "---\n",
    "\n",
    "### Global Variables\n",
    "\n",
    "A **global variable** is defined **outside any function** and can be accessed from anywhere in the program.\n",
    "\n",
    "```python\n",
    "x = 10  # Global\n",
    "\n",
    "def show():\n",
    "    print(x)  # Accesses global x\n",
    "\n",
    "show()  # Output: 10\n",
    "```\n",
    "\n",
    "---\n",
    "\n",
    "### Local Variables\n",
    "\n",
    "A **local variable** is defined **inside a function** and can only be used within that function.\n",
    "\n",
    "```python\n",
    "def demo():\n",
    "    y = 5  # Local to demo()\n",
    "    print(y)\n",
    "\n",
    "demo()      # Output: 5\n",
    "print(y)    # Error: y is not defined\n",
    "```\n",
    "\n",
    "---\n",
    "### Local Variables Override Global Variables\n",
    "\n",
    "When a variable is defined both **outside a function** (global) and **inside a function** (local), the local version is used inside the function. The function does **not** change the global variable.\n",
    "\n",
    "---\n",
    "\n",
    "### Example:\n",
    "\n",
    "```python\n",
    "a = 10  # Global variable\n",
    "\n",
    "def count(a):\n",
    "    a = a + 5\n",
    "    print(\"Inside function:\", a)\n",
    "\n",
    "count(3)\n",
    "print(\"Outside function:\", a)\n",
    "```\n",
    "\n",
    "**Output:**\n",
    "```\n",
    "Inside function: 8\n",
    "Outside function: 10\n",
    "```\n",
    "\n",
    "---\n",
    "\n",
    "### Explanation:\n",
    "\n",
    "- The global `a` is set to `10`.\n",
    "- Inside the function, `a` is a **local parameter** — it gets the value `3` when `count(3)` is called.\n",
    "- The global `a` remains unchanged because the function only works with the **local copy**.\n",
    "\n",
    "---\n",
    "\n",
    "### Key Point:\n",
    "> If a variable name exists both globally and locally, Python uses the **local version** inside the function. The global version is unaffected.\n",
    "\n",
    "\n",
    "### Summary\n",
    "\n",
    "| Scope      | Where Defined   | Where Accessible         |\n",
    "|------------|------------------|--------------------------|\n",
    "| Global     | Outside function | Inside & outside functions |\n",
    "| Local      | Inside function  | Only inside that function  |\n"
   ]
  },
  {
   "cell_type": "code",
   "execution_count": 10,
   "id": "386bdc20",
   "metadata": {},
   "outputs": [
    {
     "name": "stdout",
     "output_type": "stream",
     "text": [
      "Correct!\n"
     ]
    }
   ],
   "source": [
    "z = 7\n",
    "\n",
    "def check():\n",
    "    return z\n",
    "\n",
    "answer = check()\n",
    "\n",
    "guess = -1\n",
    "\n",
    "while guess != answer:\n",
    "    guess = int(input(\"What value does the function print? \"))\n",
    "    if guess != expected:\n",
    "        print(\"Try again!\")\n",
    "\n",
    "print(\"Correct!\")\n"
   ]
  },
  {
   "cell_type": "code",
   "execution_count": 11,
   "id": "1fcd510e",
   "metadata": {},
   "outputs": [
    {
     "name": "stdout",
     "output_type": "stream",
     "text": [
      "Correct!\n"
     ]
    }
   ],
   "source": [
    "a = 100\n",
    "\n",
    "def show(a):\n",
    "    a = a + 5\n",
    "    return a\n",
    "\n",
    "answer = show(a)\n",
    "guess = -1\n",
    "\n",
    "while guess != answer:\n",
    "    guess = int(input(\"If show(3) is called, what is printed inside the function? \"))\n",
    "    if guess != answer:\n",
    "        print(\"Try again!\")\n",
    "\n",
    "print(\"Correct!\")\n"
   ]
  },
  {
   "cell_type": "code",
   "execution_count": 12,
   "id": "88fde036",
   "metadata": {},
   "outputs": [
    {
     "name": "stdout",
     "output_type": "stream",
     "text": [
      "Correct!\n"
     ]
    }
   ],
   "source": [
    "x = 20\n",
    "\n",
    "def test():\n",
    "    x = 5\n",
    "    return x\n",
    "\n",
    "answer = test()\n",
    "\n",
    "guess = -1\n",
    "\n",
    "while guess != answer:\n",
    "    guess = int(input(\"What is printed outside the function after test()? \"))\n",
    "    if guess != answer:\n",
    "        print(\"Try again!\")\n",
    "\n",
    "print(\"Correct!\")\n"
   ]
  },
  {
   "cell_type": "code",
   "execution_count": 14,
   "id": "8890552c",
   "metadata": {},
   "outputs": [
    {
     "name": "stdout",
     "output_type": "stream",
     "text": [
      "Correct!\n"
     ]
    }
   ],
   "source": [
    "b = 99  # Global variable\n",
    "\n",
    "def update(b):  # b here is a local parameter\n",
    "    b = b + 1\n",
    "    return b\n",
    "\n",
    "result = update(10)\n",
    "\n",
    "guess = -1\n",
    "while guess != result:\n",
    "    guess = int(input(\"What does the function return when update(10) is called? \"))\n",
    "    if guess != result:\n",
    "        print(\"Try again!\")\n",
    "\n",
    "print(\"Correct!\")\n"
   ]
  },
  {
   "cell_type": "code",
   "execution_count": null,
   "id": "0f7fcdde",
   "metadata": {},
   "outputs": [],
   "source": []
  }
 ],
 "metadata": {
  "kernelspec": {
   "display_name": ".venv",
   "language": "python",
   "name": "python3"
  },
  "language_info": {
   "codemirror_mode": {
    "name": "ipython",
    "version": 3
   },
   "file_extension": ".py",
   "mimetype": "text/x-python",
   "name": "python",
   "nbconvert_exporter": "python",
   "pygments_lexer": "ipython3",
   "version": "3.12.4"
  }
 },
 "nbformat": 4,
 "nbformat_minor": 5
}
