{
 "cells": [
  {
   "cell_type": "markdown",
   "id": "34f7254a",
   "metadata": {},
   "source": [
    "# Week 1: Python Basics for Data Analysis"
   ]
  },
  {
   "cell_type": "markdown",
   "id": "f2701d60",
   "metadata": {},
   "source": [
    "- Variables, data types (int, float, str, bool)\n",
    "\n",
    "- Basic operators\n",
    "\n",
    "- Loops (for, while)\n",
    "\n",
    "- Practice: simple data manipulations and calculations"
   ]
  },
  {
   "cell_type": "markdown",
   "id": "f20a4031",
   "metadata": {},
   "source": [
    "------------------------------------------------------------\n",
    "## Types of Variables in Python\n",
    "\n",
    "Python supports several data types. Here are four common ones used in data analysis:\n",
    "\n",
    "### 1. Integer (`int`)\n",
    "Whole numbers without decimals.\n",
    "```python\n",
    "age = 25\n",
    "```\n",
    "\n",
    "### 2. Floating Point (`float`)\n",
    "Numbers that contain decimals.\n",
    "```python\n",
    "price = 19.99\n",
    "```\n",
    "\n",
    "### 3. String (`str`)\n",
    "Text data enclosed in quotes (single or double).\n",
    "```python\n",
    "name = \"Eugene\"\n",
    "greeting = 'Hello'\n",
    "```\n",
    "\n",
    "### 4. Boolean (`bool`)\n",
    "Represents one of two values: `True` or `False`. Often used in comparisons.\n",
    "```python\n",
    "is_active = True\n",
    "is_admin = False\n",
    "```\n",
    "\n",
    "Use the `type()` function to check a variable’s type:\n",
    "```python\n",
    "print(type(price))  # Output: <class 'float'>\n",
    "```\n",
    "---------------------------------------------------------------\n"
   ]
  },
  {
   "cell_type": "markdown",
   "id": "e957a942",
   "metadata": {},
   "source": [
    "## Basic Operations in Python\n",
    "\n",
    "Python supports several types of basic operations that are commonly used in data analysis.\n",
    "\n",
    "### 1. Arithmetic Operations\n",
    "Used to perform mathematical calculations:\n",
    "```python\n",
    "a = 10\n",
    "b = 3\n",
    "\n",
    "print(a + b)  # Addition → 13\n",
    "print(a - b)  # Subtraction → 7\n",
    "print(a * b)  # Multiplication → 30\n",
    "print(a / b)  # Division → 3.333...\n",
    "print(a // b) # Floor division → 3\n",
    "print(a % b)  # Modulus (remainder) → 1\n",
    "print(a ** b) # Exponentiation → 1000\n",
    "```\n",
    "\n",
    "### 2. Comparison Operations\n",
    "Used to compare values; returns a boolean (`True` or `False`):\n",
    "```python\n",
    "a = 5\n",
    "b = 7\n",
    "\n",
    "print(a == b)  # Equal → False\n",
    "print(a != b)  # Not equal → True\n",
    "print(a > b)   # Greater than → False\n",
    "print(a < b)   # Less than → True\n",
    "print(a >= b)  # Greater than or equal → False\n",
    "print(a <= b)  # Less than or equal → True\n",
    "```\n",
    "\n",
    "### 3. Logical Operations\n",
    "Used to combine conditional statements:\n",
    "```python\n",
    "x = True\n",
    "y = False\n",
    "\n",
    "print(x and y)  # False\n",
    "print(x or y)   # True\n",
    "print(not x)    # False\n",
    "```\n",
    "----------------------------------------------------------------"
   ]
  },
  {
   "cell_type": "markdown",
   "id": "b678da7a",
   "metadata": {},
   "source": [
    "## Understanding Indexing in Python\n",
    "\n",
    "In Python, indexing is used to access individual elements in sequences like **lists**, **strings**, and **tuples**.\n",
    "\n",
    "**Indexing starts from 0**, not 1.\n",
    "\n",
    "### Example:\n",
    "```python\n",
    "fruits = [\"apple\", \"banana\", \"cherry\"]\n",
    "print(fruits[0])  # First element\n",
    "print(fruits[1])  # Second element\n",
    "print(fruits[2])  # Third element\n",
    "```\n",
    "\n",
    "Output:\n",
    "```\n",
    "apple\n",
    "banana\n",
    "cherry\n",
    "```\n",
    "\n",
    "- `fruits[0]` gives you the first item.\n",
    "- Negative indexing is also allowed: `fruits[-1]` refers to the last item (`\"cherry\"` in this case).\n"
   ]
  },
  {
   "cell_type": "markdown",
   "id": "78c9e43b",
   "metadata": {},
   "source": [
    "# 2 Types of Loops\n",
    "1) **For loops**  \n",
    "\n",
    "2) **While loops**"
   ]
  },
  {
   "cell_type": "markdown",
   "id": "113c8ffc",
   "metadata": {},
   "source": [
    "## What is a `for` loop?\n",
    "\n",
    "A `for` loop in Python is used to **iterate over a sequence** (like a list, tuple, string, or range) and perform actions on each element one by one.\n",
    "\n",
    "### Syntax:\n",
    "```python\n",
    "for variable in sequence:\n",
    "    # Do something with variable\n",
    "```\n",
    "\n",
    "### Example 1: Looping through a list\n",
    "```python\n",
    "fruits = [\"apple\", \"banana\", \"cherry\"]\n",
    "for fruit in fruits: \n",
    "    print(fruit)\n",
    "```\n",
    "\n",
    "**Output:**\n",
    "```\n",
    "apple\n",
    "banana\n",
    "cherry\n",
    "```\n",
    "\n",
    "### Example 2: Using `range()` to repeat something\n",
    "```python\n",
    "for i in range(5): # 0, 1, 2, 3, 4\n",
    "    print(\"Hello\")\n",
    "```\n",
    "\n",
    "**Output:**\n",
    "```\n",
    "Hello\n",
    "Hello\n",
    "Hello\n",
    "Hello\n",
    "Hello\n",
    "```\n",
    "\n",
    "### Notes:\n",
    "- The variable name (`i`, `fruit`, etc.) can be anything.\n",
    "- `range(n)` gives a sequence from `0` to `n-1`.\n",
    "- Indentation is **very important** in Python!\n",
    "\n",
    "---\n",
    "Use `for` loops when you know **how many times** you want to repeat something or when you want to process each item in a collection.\n"
   ]
  },
  {
   "cell_type": "markdown",
   "id": "e2d6d8d0",
   "metadata": {},
   "source": [
    "## What is a `while` loop?\n",
    "\n",
    "A `while` loop in Python is used to repeatedly execute a block of code **as long as a condition is true**. It is useful when you don't know in advance how many times the loop should run.\n",
    "\n",
    "### Syntax:\n",
    "```python\n",
    "while condition:\n",
    "    # Do something\n",
    "```\n",
    "\n",
    "### Example 1: Basic loop with a counter\n",
    "```python\n",
    "count = 0 # We usually initialize a variable before starting the loop\n",
    "while count < 5:\n",
    "    print(\"Count is:\", count)\n",
    "    count += 1 # make sure to increment the count so that once the count = 5, it breaks out of the loop\n",
    "    # without count += 1, it will be an infinite loop\n",
    "```\n",
    "\n",
    "Output:\n",
    "```\n",
    "Count is: 0\n",
    "Count is: 1\n",
    "Count is: 2\n",
    "Count is: 3\n",
    "Count is: 4\n",
    "```\n",
    "\n",
    "### Example 2: Loop until user types \"exit\"\n",
    "```python\n",
    "user_input = \"\"\n",
    "while user_input != \"exit\":\n",
    "    user_input = input(\"Type 'exit' to quit: \")\n",
    "```\n",
    "\n",
    "This loop continues prompting the user until they type `\"exit\"`.\n",
    "\n",
    "### Notes:\n",
    "- Be careful: if the condition never becomes false, the loop will run forever (infinite loop).\n",
    "- You can use `break` to exit the loop manually and `continue` to skip to the next iteration.\n"
   ]
  },
  {
   "cell_type": "markdown",
   "id": "9b84ae10",
   "metadata": {},
   "source": [
    "# Hands on mini quiz"
   ]
  },
  {
   "cell_type": "code",
   "execution_count": 7,
   "id": "fe2015b6",
   "metadata": {},
   "outputs": [
    {
     "name": "stdout",
     "output_type": "stream",
     "text": [
      "Wrong Type!\n",
      "Wrong Type!\n",
      "Wrong Type!\n",
      "Wrong Type!\n",
      "Good job\n"
     ]
    }
   ],
   "source": [
    "x = 10\n",
    "y = 5\n",
    "z = x // y  \n",
    "\n",
    "guess = -1  \n",
    "\n",
    "while guess != z:\n",
    "    try:\n",
    "        guess = int(input(\"What is the value of z\"))\n",
    "    except ValueError:\n",
    "        print(\"Wrong Type!\")\n",
    "        continue\n",
    "    if guess != z:\n",
    "        print(\"Try again\")\n",
    "    else:\n",
    "        print(\"Good job\")\n"
   ]
  },
  {
   "cell_type": "code",
   "execution_count": 9,
   "id": "fcecbbb8",
   "metadata": {},
   "outputs": [
    {
     "name": "stdout",
     "output_type": "stream",
     "text": [
      "Good job\n"
     ]
    }
   ],
   "source": [
    "x = 10\n",
    "y = 5\n",
    "z = x / y  \n",
    "\n",
    "guess = -1  \n",
    "\n",
    "while guess != z:\n",
    "    try:\n",
    "        guess = float(input(\"What is the value of z\"))\n",
    "    except ValueError:\n",
    "        print(\"Wrong Type!\")\n",
    "        continue\n",
    "    if guess != z:\n",
    "        print(\"Try again\")\n",
    "    else:\n",
    "        print(\"Good job\")\n"
   ]
  },
  {
   "cell_type": "code",
   "execution_count": null,
   "id": "1bbe8122",
   "metadata": {},
   "outputs": [
    {
     "name": "stdout",
     "output_type": "stream",
     "text": [
      "Try again\n",
      "Good job\n"
     ]
    }
   ],
   "source": [
    "x = 0\n",
    "for _ in range(5):\n",
    "    x += 1\n",
    "\n",
    "guess = -1\n",
    "\n",
    "while guess != x:\n",
    "    try:\n",
    "        guess = int(input(\"What is the value of z\"))\n",
    "    except ValueError:\n",
    "        print(\"Wrong Type!\")\n",
    "        continue\n",
    "    if guess != x:\n",
    "        print(\"Try again\")\n",
    "    else:\n",
    "        print(\"Good job\")"
   ]
  },
  {
   "cell_type": "code",
   "execution_count": 15,
   "id": "3be01dc2",
   "metadata": {},
   "outputs": [
    {
     "name": "stdout",
     "output_type": "stream",
     "text": [
      "Good job\n"
     ]
    }
   ],
   "source": [
    "x = 0\n",
    "for i in range(5):\n",
    "    x += i\n",
    "\n",
    "guess = -1\n",
    "\n",
    "while guess != x:\n",
    "    try:\n",
    "        guess = int(input(\"What is the value of z\"))\n",
    "    except ValueError:\n",
    "        print(\"Wrong Type!\")\n",
    "        continue\n",
    "    if guess != x:\n",
    "        print(\"Try again\")\n",
    "    else:\n",
    "        print(\"Good job\")"
   ]
  },
  {
   "cell_type": "code",
   "execution_count": 16,
   "id": "afa8c75a",
   "metadata": {},
   "outputs": [
    {
     "name": "stdout",
     "output_type": "stream",
     "text": [
      "Try again\n",
      "Good job\n"
     ]
    }
   ],
   "source": [
    "x = 0\n",
    "while x < 5:\n",
    "    x += 1 \n",
    "    \n",
    "guess = -1\n",
    "\n",
    "while guess != x:\n",
    "    try:\n",
    "        guess = int(input(\"What is the value of z\"))\n",
    "    except ValueError:\n",
    "        print(\"Wrong Type!\")\n",
    "        continue\n",
    "    if guess != x:\n",
    "        print(\"Try again\")\n",
    "    else:\n",
    "        print(\"Good job\")"
   ]
  }
 ],
 "metadata": {
  "kernelspec": {
   "display_name": ".venv",
   "language": "python",
   "name": "python3"
  },
  "language_info": {
   "codemirror_mode": {
    "name": "ipython",
    "version": 3
   },
   "file_extension": ".py",
   "mimetype": "text/x-python",
   "name": "python",
   "nbconvert_exporter": "python",
   "pygments_lexer": "ipython3",
   "version": "3.12.4"
  }
 },
 "nbformat": 4,
 "nbformat_minor": 5
}
