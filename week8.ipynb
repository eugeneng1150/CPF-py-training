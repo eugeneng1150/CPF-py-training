{
 "cells": [
  {
   "cell_type": "markdown",
   "id": "9e689284",
   "metadata": {},
   "source": [
    "# Intro to AI\n",
    "Understanding how machine make sense of text data"
   ]
  },
  {
   "cell_type": "markdown",
   "id": "2666f249",
   "metadata": {},
   "source": []
  },
  {
   "cell_type": "code",
   "execution_count": 34,
   "id": "7b51fe75",
   "metadata": {},
   "outputs": [],
   "source": [
    "# !pip install regex pandas inflect numpy contractions scikit-learn matplotlib wordcloud nltk"
   ]
  },
  {
   "cell_type": "code",
   "execution_count": 2,
   "id": "0b06f3d8",
   "metadata": {},
   "outputs": [],
   "source": [
    "import regex as re\n",
    "import pandas as pd\n",
    "import inflect\n",
    "import numpy as np\n",
    "import contractions\n",
    "import string\n",
    "from sklearn.model_selection import train_test_split\n",
    "from sklearn.feature_extraction.text import TfidfVectorizer\n",
    "import matplotlib.pyplot as plt\n",
    "from wordcloud import WordCloud\n",
    "from sklearn.metrics import accuracy_score"
   ]
  },
  {
   "cell_type": "code",
   "execution_count": 3,
   "id": "801bf577",
   "metadata": {},
   "outputs": [
    {
     "name": "stderr",
     "output_type": "stream",
     "text": [
      "[nltk_data] Error loading punkt: <urlopen error [WinError 10054] An\n",
      "[nltk_data]     existing connection was forcibly closed by the remote\n",
      "[nltk_data]     host>\n",
      "[nltk_data] Error loading stopwords: <urlopen error [WinError 10054]\n",
      "[nltk_data]     An existing connection was forcibly closed by the\n",
      "[nltk_data]     remote host>\n"
     ]
    }
   ],
   "source": [
    "import nltk\n",
    "nltk.download('punkt')\n",
    "nltk.download('stopwords')\n",
    "from nltk.corpus import stopwords\n",
    "from nltk.tokenize import TweetTokenizer\n",
    "from nltk.stem import WordNetLemmatizer"
   ]
  },
  {
   "cell_type": "code",
   "execution_count": 4,
   "id": "89df4009",
   "metadata": {},
   "outputs": [
    {
     "data": {
      "text/html": [
       "<div>\n",
       "<style scoped>\n",
       "    .dataframe tbody tr th:only-of-type {\n",
       "        vertical-align: middle;\n",
       "    }\n",
       "\n",
       "    .dataframe tbody tr th {\n",
       "        vertical-align: top;\n",
       "    }\n",
       "\n",
       "    .dataframe thead th {\n",
       "        text-align: right;\n",
       "    }\n",
       "</style>\n",
       "<table border=\"1\" class=\"dataframe\">\n",
       "  <thead>\n",
       "    <tr style=\"text-align: right;\">\n",
       "      <th></th>\n",
       "      <th>Review</th>\n",
       "      <th>Sentiment</th>\n",
       "    </tr>\n",
       "  </thead>\n",
       "  <tbody>\n",
       "    <tr>\n",
       "      <th>0</th>\n",
       "      <td>Fast shipping but this product is very cheaply...</td>\n",
       "      <td>1</td>\n",
       "    </tr>\n",
       "    <tr>\n",
       "      <th>1</th>\n",
       "      <td>This case takes so long to ship and it's not e...</td>\n",
       "      <td>1</td>\n",
       "    </tr>\n",
       "    <tr>\n",
       "      <th>2</th>\n",
       "      <td>Good for not droids. Not good for iPhones. You...</td>\n",
       "      <td>1</td>\n",
       "    </tr>\n",
       "    <tr>\n",
       "      <th>3</th>\n",
       "      <td>The cable was not compatible between my macboo...</td>\n",
       "      <td>1</td>\n",
       "    </tr>\n",
       "    <tr>\n",
       "      <th>4</th>\n",
       "      <td>The case is nice but did not have a glow light...</td>\n",
       "      <td>1</td>\n",
       "    </tr>\n",
       "    <tr>\n",
       "      <th>5</th>\n",
       "      <td>The cable keeps coming up with message that th...</td>\n",
       "      <td>1</td>\n",
       "    </tr>\n",
       "    <tr>\n",
       "      <th>6</th>\n",
       "      <td>This pos broke off in my phone after 3 uses an...</td>\n",
       "      <td>1</td>\n",
       "    </tr>\n",
       "    <tr>\n",
       "      <th>7</th>\n",
       "      <td>This product suck its hard 2 hear wat other ar...</td>\n",
       "      <td>1</td>\n",
       "    </tr>\n",
       "    <tr>\n",
       "      <th>8</th>\n",
       "      <td>Music cuts off within 30 secs. I like Aukey's ...</td>\n",
       "      <td>1</td>\n",
       "    </tr>\n",
       "    <tr>\n",
       "      <th>9</th>\n",
       "      <td>Yeah when they say mirror screen they mean it ...</td>\n",
       "      <td>1</td>\n",
       "    </tr>\n",
       "  </tbody>\n",
       "</table>\n",
       "</div>"
      ],
      "text/plain": [
       "                                              Review  Sentiment\n",
       "0  Fast shipping but this product is very cheaply...          1\n",
       "1  This case takes so long to ship and it's not e...          1\n",
       "2  Good for not droids. Not good for iPhones. You...          1\n",
       "3  The cable was not compatible between my macboo...          1\n",
       "4  The case is nice but did not have a glow light...          1\n",
       "5  The cable keeps coming up with message that th...          1\n",
       "6  This pos broke off in my phone after 3 uses an...          1\n",
       "7  This product suck its hard 2 hear wat other ar...          1\n",
       "8  Music cuts off within 30 secs. I like Aukey's ...          1\n",
       "9  Yeah when they say mirror screen they mean it ...          1"
      ]
     },
     "execution_count": 4,
     "metadata": {},
     "output_type": "execute_result"
    }
   ],
   "source": [
    "unclean_data = pd.read_csv(\"Amazon-Product-Reviews-Sentiment-Analysis-in-Python-Dataset (1).csv\")\n",
    "unclean_data.head(10)"
   ]
  },
  {
   "cell_type": "code",
   "execution_count": 5,
   "id": "bbadb436",
   "metadata": {},
   "outputs": [
    {
     "name": "stdout",
     "output_type": "stream",
     "text": [
      "<class 'pandas.core.frame.DataFrame'>\n",
      "RangeIndex: 25000 entries, 0 to 24999\n",
      "Data columns (total 2 columns):\n",
      " #   Column     Non-Null Count  Dtype \n",
      "---  ------     --------------  ----- \n",
      " 0   Review     24999 non-null  object\n",
      " 1   Sentiment  25000 non-null  int64 \n",
      "dtypes: int64(1), object(1)\n",
      "memory usage: 390.8+ KB\n"
     ]
    }
   ],
   "source": [
    "unclean_data.info()"
   ]
  },
  {
   "cell_type": "code",
   "execution_count": 6,
   "id": "36703d4a",
   "metadata": {},
   "outputs": [
    {
     "data": {
      "text/html": [
       "<div>\n",
       "<style scoped>\n",
       "    .dataframe tbody tr th:only-of-type {\n",
       "        vertical-align: middle;\n",
       "    }\n",
       "\n",
       "    .dataframe tbody tr th {\n",
       "        vertical-align: top;\n",
       "    }\n",
       "\n",
       "    .dataframe thead th {\n",
       "        text-align: right;\n",
       "    }\n",
       "</style>\n",
       "<table border=\"1\" class=\"dataframe\">\n",
       "  <thead>\n",
       "    <tr style=\"text-align: right;\">\n",
       "      <th></th>\n",
       "      <th>Sentiment</th>\n",
       "    </tr>\n",
       "  </thead>\n",
       "  <tbody>\n",
       "    <tr>\n",
       "      <th>count</th>\n",
       "      <td>25000.000000</td>\n",
       "    </tr>\n",
       "    <tr>\n",
       "      <th>mean</th>\n",
       "      <td>3.000000</td>\n",
       "    </tr>\n",
       "    <tr>\n",
       "      <th>std</th>\n",
       "      <td>1.414242</td>\n",
       "    </tr>\n",
       "    <tr>\n",
       "      <th>min</th>\n",
       "      <td>1.000000</td>\n",
       "    </tr>\n",
       "    <tr>\n",
       "      <th>25%</th>\n",
       "      <td>2.000000</td>\n",
       "    </tr>\n",
       "    <tr>\n",
       "      <th>50%</th>\n",
       "      <td>3.000000</td>\n",
       "    </tr>\n",
       "    <tr>\n",
       "      <th>75%</th>\n",
       "      <td>4.000000</td>\n",
       "    </tr>\n",
       "    <tr>\n",
       "      <th>max</th>\n",
       "      <td>5.000000</td>\n",
       "    </tr>\n",
       "  </tbody>\n",
       "</table>\n",
       "</div>"
      ],
      "text/plain": [
       "          Sentiment\n",
       "count  25000.000000\n",
       "mean       3.000000\n",
       "std        1.414242\n",
       "min        1.000000\n",
       "25%        2.000000\n",
       "50%        3.000000\n",
       "75%        4.000000\n",
       "max        5.000000"
      ]
     },
     "execution_count": 6,
     "metadata": {},
     "output_type": "execute_result"
    }
   ],
   "source": [
    "unclean_data.describe()"
   ]
  },
  {
   "cell_type": "markdown",
   "id": "77524927",
   "metadata": {},
   "source": [
    "## Data Cleaning"
   ]
  },
  {
   "cell_type": "code",
   "execution_count": 7,
   "id": "a8eae619",
   "metadata": {},
   "outputs": [],
   "source": [
    "# remove any Missing values\n",
    "unclean_data.dropna(inplace=True)"
   ]
  },
  {
   "cell_type": "code",
   "execution_count": 8,
   "id": "6d4a30f0",
   "metadata": {},
   "outputs": [
    {
     "data": {
      "text/html": [
       "<div>\n",
       "<style scoped>\n",
       "    .dataframe tbody tr th:only-of-type {\n",
       "        vertical-align: middle;\n",
       "    }\n",
       "\n",
       "    .dataframe tbody tr th {\n",
       "        vertical-align: top;\n",
       "    }\n",
       "\n",
       "    .dataframe thead th {\n",
       "        text-align: right;\n",
       "    }\n",
       "</style>\n",
       "<table border=\"1\" class=\"dataframe\">\n",
       "  <thead>\n",
       "    <tr style=\"text-align: right;\">\n",
       "      <th></th>\n",
       "      <th>Review</th>\n",
       "      <th>Sentiment</th>\n",
       "    </tr>\n",
       "  </thead>\n",
       "  <tbody>\n",
       "    <tr>\n",
       "      <th>0</th>\n",
       "      <td>Fast shipping but this product is very cheaply...</td>\n",
       "      <td>0</td>\n",
       "    </tr>\n",
       "    <tr>\n",
       "      <th>1</th>\n",
       "      <td>This case takes so long to ship and it's not e...</td>\n",
       "      <td>0</td>\n",
       "    </tr>\n",
       "    <tr>\n",
       "      <th>2</th>\n",
       "      <td>Good for not droids. Not good for iPhones. You...</td>\n",
       "      <td>0</td>\n",
       "    </tr>\n",
       "    <tr>\n",
       "      <th>3</th>\n",
       "      <td>The cable was not compatible between my macboo...</td>\n",
       "      <td>0</td>\n",
       "    </tr>\n",
       "    <tr>\n",
       "      <th>4</th>\n",
       "      <td>The case is nice but did not have a glow light...</td>\n",
       "      <td>0</td>\n",
       "    </tr>\n",
       "    <tr>\n",
       "      <th>5</th>\n",
       "      <td>The cable keeps coming up with message that th...</td>\n",
       "      <td>0</td>\n",
       "    </tr>\n",
       "    <tr>\n",
       "      <th>6</th>\n",
       "      <td>This pos broke off in my phone after 3 uses an...</td>\n",
       "      <td>0</td>\n",
       "    </tr>\n",
       "    <tr>\n",
       "      <th>7</th>\n",
       "      <td>This product suck its hard 2 hear wat other ar...</td>\n",
       "      <td>0</td>\n",
       "    </tr>\n",
       "    <tr>\n",
       "      <th>8</th>\n",
       "      <td>Music cuts off within 30 secs. I like Aukey's ...</td>\n",
       "      <td>0</td>\n",
       "    </tr>\n",
       "    <tr>\n",
       "      <th>9</th>\n",
       "      <td>Yeah when they say mirror screen they mean it ...</td>\n",
       "      <td>0</td>\n",
       "    </tr>\n",
       "  </tbody>\n",
       "</table>\n",
       "</div>"
      ],
      "text/plain": [
       "                                              Review  Sentiment\n",
       "0  Fast shipping but this product is very cheaply...          0\n",
       "1  This case takes so long to ship and it's not e...          0\n",
       "2  Good for not droids. Not good for iPhones. You...          0\n",
       "3  The cable was not compatible between my macboo...          0\n",
       "4  The case is nice but did not have a glow light...          0\n",
       "5  The cable keeps coming up with message that th...          0\n",
       "6  This pos broke off in my phone after 3 uses an...          0\n",
       "7  This product suck its hard 2 hear wat other ar...          0\n",
       "8  Music cuts off within 30 secs. I like Aukey's ...          0\n",
       "9  Yeah when they say mirror screen they mean it ...          0"
      ]
     },
     "execution_count": 8,
     "metadata": {},
     "output_type": "execute_result"
    }
   ],
   "source": [
    "# Replace Sentiment Columns with Positive == 1 and Negative == 0\n",
    "unclean_data['Sentiment'] = unclean_data['Sentiment'].astype(int)\n",
    "unclean_data[\"Sentiment\"] = np.where(unclean_data['Sentiment'] <= 3, 0, 1)\n",
    "unclean_data.head(10)"
   ]
  },
  {
   "cell_type": "code",
   "execution_count": 9,
   "id": "831ef379",
   "metadata": {},
   "outputs": [
    {
     "data": {
      "text/plain": [
       "Sentiment\n",
       "0    15000\n",
       "1     9999\n",
       "Name: count, dtype: int64"
      ]
     },
     "execution_count": 9,
     "metadata": {},
     "output_type": "execute_result"
    }
   ],
   "source": [
    "# Get the number of positive and negative sentiments\n",
    "unclean_data['Sentiment'].value_counts()"
   ]
  },
  {
   "cell_type": "code",
   "execution_count": 10,
   "id": "48627860",
   "metadata": {},
   "outputs": [
    {
     "name": "stdout",
     "output_type": "stream",
     "text": [
      "Number of Rows dropped 228\n"
     ]
    }
   ],
   "source": [
    "# Drop Duplicate columns\n",
    "before = unclean_data.shape[0]\n",
    "unclean_data.drop_duplicates(inplace=True)\n",
    "after = unclean_data.shape[0]\n",
    "print(f\"Number of Rows dropped\", before - after)"
   ]
  },
  {
   "cell_type": "markdown",
   "id": "2b071f0c",
   "metadata": {},
   "source": [
    "## Remove HTML Tags"
   ]
  },
  {
   "cell_type": "code",
   "execution_count": 11,
   "id": "b52fcd14",
   "metadata": {},
   "outputs": [],
   "source": [
    "def remove_html(text):\n",
    "    html_tag = re.compile(r'<.*?>')\n",
    "    text = html_tag.sub(r'', text)\n",
    "    return text\n",
    "unclean_data['Review'] = unclean_data['Review'].apply(remove_html)"
   ]
  },
  {
   "cell_type": "code",
   "execution_count": 12,
   "id": "ab1ee386",
   "metadata": {},
   "outputs": [
    {
     "data": {
      "text/html": [
       "<div>\n",
       "<style scoped>\n",
       "    .dataframe tbody tr th:only-of-type {\n",
       "        vertical-align: middle;\n",
       "    }\n",
       "\n",
       "    .dataframe tbody tr th {\n",
       "        vertical-align: top;\n",
       "    }\n",
       "\n",
       "    .dataframe thead th {\n",
       "        text-align: right;\n",
       "    }\n",
       "</style>\n",
       "<table border=\"1\" class=\"dataframe\">\n",
       "  <thead>\n",
       "    <tr style=\"text-align: right;\">\n",
       "      <th></th>\n",
       "      <th>Review</th>\n",
       "      <th>Sentiment</th>\n",
       "    </tr>\n",
       "  </thead>\n",
       "  <tbody>\n",
       "    <tr>\n",
       "      <th>0</th>\n",
       "      <td>Fast shipping but this product is very cheaply...</td>\n",
       "      <td>0</td>\n",
       "    </tr>\n",
       "    <tr>\n",
       "      <th>1</th>\n",
       "      <td>This case takes so long to ship and it's not e...</td>\n",
       "      <td>0</td>\n",
       "    </tr>\n",
       "    <tr>\n",
       "      <th>2</th>\n",
       "      <td>Good for not droids. Not good for iPhones. You...</td>\n",
       "      <td>0</td>\n",
       "    </tr>\n",
       "    <tr>\n",
       "      <th>3</th>\n",
       "      <td>The cable was not compatible between my macboo...</td>\n",
       "      <td>0</td>\n",
       "    </tr>\n",
       "    <tr>\n",
       "      <th>4</th>\n",
       "      <td>The case is nice but did not have a glow light...</td>\n",
       "      <td>0</td>\n",
       "    </tr>\n",
       "    <tr>\n",
       "      <th>...</th>\n",
       "      <td>...</td>\n",
       "      <td>...</td>\n",
       "    </tr>\n",
       "    <tr>\n",
       "      <th>24892</th>\n",
       "      <td>The screen protector was very easy to put on a...</td>\n",
       "      <td>1</td>\n",
       "    </tr>\n",
       "    <tr>\n",
       "      <th>24893</th>\n",
       "      <td>Good sturdy construction.  No chance of warpin...</td>\n",
       "      <td>1</td>\n",
       "    </tr>\n",
       "    <tr>\n",
       "      <th>24894</th>\n",
       "      <td>I love it.cheap and good.</td>\n",
       "      <td>1</td>\n",
       "    </tr>\n",
       "    <tr>\n",
       "      <th>24896</th>\n",
       "      <td>My ipod is now protected! I love the color and...</td>\n",
       "      <td>1</td>\n",
       "    </tr>\n",
       "    <tr>\n",
       "      <th>24897</th>\n",
       "      <td>Use this in the gym and it has held up very we...</td>\n",
       "      <td>1</td>\n",
       "    </tr>\n",
       "  </tbody>\n",
       "</table>\n",
       "<p>24671 rows × 2 columns</p>\n",
       "</div>"
      ],
      "text/plain": [
       "                                                  Review  Sentiment\n",
       "0      Fast shipping but this product is very cheaply...          0\n",
       "1      This case takes so long to ship and it's not e...          0\n",
       "2      Good for not droids. Not good for iPhones. You...          0\n",
       "3      The cable was not compatible between my macboo...          0\n",
       "4      The case is nice but did not have a glow light...          0\n",
       "...                                                  ...        ...\n",
       "24892  The screen protector was very easy to put on a...          1\n",
       "24893  Good sturdy construction.  No chance of warpin...          1\n",
       "24894                          I love it.cheap and good.          1\n",
       "24896  My ipod is now protected! I love the color and...          1\n",
       "24897  Use this in the gym and it has held up very we...          1\n",
       "\n",
       "[24671 rows x 2 columns]"
      ]
     },
     "execution_count": 12,
     "metadata": {},
     "output_type": "execute_result"
    }
   ],
   "source": [
    "unclean_data.head(-100)"
   ]
  },
  {
   "cell_type": "markdown",
   "id": "f95301b6",
   "metadata": {},
   "source": [
    "### Remove Punctuation"
   ]
  },
  {
   "cell_type": "code",
   "execution_count": 13,
   "id": "0b58993d",
   "metadata": {},
   "outputs": [],
   "source": [
    "def remove_punctuation(text):\n",
    "    translator = str.maketrans('', '', string.punctuation)\n",
    "    return text.translate(translator)\n",
    "unclean_data['Review'] = unclean_data['Review'].apply(remove_punctuation)"
   ]
  },
  {
   "cell_type": "code",
   "execution_count": 14,
   "id": "9e3c4555",
   "metadata": {},
   "outputs": [
    {
     "data": {
      "text/html": [
       "<div>\n",
       "<style scoped>\n",
       "    .dataframe tbody tr th:only-of-type {\n",
       "        vertical-align: middle;\n",
       "    }\n",
       "\n",
       "    .dataframe tbody tr th {\n",
       "        vertical-align: top;\n",
       "    }\n",
       "\n",
       "    .dataframe thead th {\n",
       "        text-align: right;\n",
       "    }\n",
       "</style>\n",
       "<table border=\"1\" class=\"dataframe\">\n",
       "  <thead>\n",
       "    <tr style=\"text-align: right;\">\n",
       "      <th></th>\n",
       "      <th>Review</th>\n",
       "      <th>Sentiment</th>\n",
       "    </tr>\n",
       "  </thead>\n",
       "  <tbody>\n",
       "    <tr>\n",
       "      <th>0</th>\n",
       "      <td>Fast shipping but this product is very cheaply...</td>\n",
       "      <td>0</td>\n",
       "    </tr>\n",
       "    <tr>\n",
       "      <th>1</th>\n",
       "      <td>This case takes so long to ship and its not ev...</td>\n",
       "      <td>0</td>\n",
       "    </tr>\n",
       "    <tr>\n",
       "      <th>2</th>\n",
       "      <td>Good for not droids Not good for iPhones You c...</td>\n",
       "      <td>0</td>\n",
       "    </tr>\n",
       "    <tr>\n",
       "      <th>3</th>\n",
       "      <td>The cable was not compatible between my macboo...</td>\n",
       "      <td>0</td>\n",
       "    </tr>\n",
       "    <tr>\n",
       "      <th>4</th>\n",
       "      <td>The case is nice but did not have a glow light...</td>\n",
       "      <td>0</td>\n",
       "    </tr>\n",
       "    <tr>\n",
       "      <th>...</th>\n",
       "      <td>...</td>\n",
       "      <td>...</td>\n",
       "    </tr>\n",
       "    <tr>\n",
       "      <th>24892</th>\n",
       "      <td>The screen protector was very easy to put on a...</td>\n",
       "      <td>1</td>\n",
       "    </tr>\n",
       "    <tr>\n",
       "      <th>24893</th>\n",
       "      <td>Good sturdy construction  No chance of warping...</td>\n",
       "      <td>1</td>\n",
       "    </tr>\n",
       "    <tr>\n",
       "      <th>24894</th>\n",
       "      <td>I love itcheap and good</td>\n",
       "      <td>1</td>\n",
       "    </tr>\n",
       "    <tr>\n",
       "      <th>24896</th>\n",
       "      <td>My ipod is now protected I love the color and ...</td>\n",
       "      <td>1</td>\n",
       "    </tr>\n",
       "    <tr>\n",
       "      <th>24897</th>\n",
       "      <td>Use this in the gym and it has held up very we...</td>\n",
       "      <td>1</td>\n",
       "    </tr>\n",
       "  </tbody>\n",
       "</table>\n",
       "<p>24671 rows × 2 columns</p>\n",
       "</div>"
      ],
      "text/plain": [
       "                                                  Review  Sentiment\n",
       "0      Fast shipping but this product is very cheaply...          0\n",
       "1      This case takes so long to ship and its not ev...          0\n",
       "2      Good for not droids Not good for iPhones You c...          0\n",
       "3      The cable was not compatible between my macboo...          0\n",
       "4      The case is nice but did not have a glow light...          0\n",
       "...                                                  ...        ...\n",
       "24892  The screen protector was very easy to put on a...          1\n",
       "24893  Good sturdy construction  No chance of warping...          1\n",
       "24894                            I love itcheap and good          1\n",
       "24896  My ipod is now protected I love the color and ...          1\n",
       "24897  Use this in the gym and it has held up very we...          1\n",
       "\n",
       "[24671 rows x 2 columns]"
      ]
     },
     "execution_count": 14,
     "metadata": {},
     "output_type": "execute_result"
    }
   ],
   "source": [
    "unclean_data.head(-100)\n",
    "# now the text is cleaned, next step is to make the words in lower cases"
   ]
  },
  {
   "cell_type": "markdown",
   "id": "76a51730",
   "metadata": {},
   "source": [
    "### Lower Case Each Word"
   ]
  },
  {
   "cell_type": "code",
   "execution_count": 15,
   "id": "2bc6aadb",
   "metadata": {},
   "outputs": [],
   "source": [
    "def lower_case(text):\n",
    "    return text.lower()\n",
    "unclean_data['Review'] = unclean_data['Review'].apply(lower_case)"
   ]
  },
  {
   "cell_type": "code",
   "execution_count": 16,
   "id": "295ca0a7",
   "metadata": {},
   "outputs": [
    {
     "data": {
      "text/html": [
       "<div>\n",
       "<style scoped>\n",
       "    .dataframe tbody tr th:only-of-type {\n",
       "        vertical-align: middle;\n",
       "    }\n",
       "\n",
       "    .dataframe tbody tr th {\n",
       "        vertical-align: top;\n",
       "    }\n",
       "\n",
       "    .dataframe thead th {\n",
       "        text-align: right;\n",
       "    }\n",
       "</style>\n",
       "<table border=\"1\" class=\"dataframe\">\n",
       "  <thead>\n",
       "    <tr style=\"text-align: right;\">\n",
       "      <th></th>\n",
       "      <th>Review</th>\n",
       "      <th>Sentiment</th>\n",
       "    </tr>\n",
       "  </thead>\n",
       "  <tbody>\n",
       "    <tr>\n",
       "      <th>0</th>\n",
       "      <td>fast shipping but this product is very cheaply...</td>\n",
       "      <td>0</td>\n",
       "    </tr>\n",
       "    <tr>\n",
       "      <th>1</th>\n",
       "      <td>this case takes so long to ship and its not ev...</td>\n",
       "      <td>0</td>\n",
       "    </tr>\n",
       "    <tr>\n",
       "      <th>2</th>\n",
       "      <td>good for not droids not good for iphones you c...</td>\n",
       "      <td>0</td>\n",
       "    </tr>\n",
       "    <tr>\n",
       "      <th>3</th>\n",
       "      <td>the cable was not compatible between my macboo...</td>\n",
       "      <td>0</td>\n",
       "    </tr>\n",
       "    <tr>\n",
       "      <th>4</th>\n",
       "      <td>the case is nice but did not have a glow light...</td>\n",
       "      <td>0</td>\n",
       "    </tr>\n",
       "    <tr>\n",
       "      <th>5</th>\n",
       "      <td>the cable keeps coming up with message that th...</td>\n",
       "      <td>0</td>\n",
       "    </tr>\n",
       "    <tr>\n",
       "      <th>6</th>\n",
       "      <td>this pos broke off in my phone after 3 uses an...</td>\n",
       "      <td>0</td>\n",
       "    </tr>\n",
       "    <tr>\n",
       "      <th>7</th>\n",
       "      <td>this product suck its hard 2 hear wat other ar...</td>\n",
       "      <td>0</td>\n",
       "    </tr>\n",
       "    <tr>\n",
       "      <th>8</th>\n",
       "      <td>music cuts off within 30 secs i like aukeys pr...</td>\n",
       "      <td>0</td>\n",
       "    </tr>\n",
       "    <tr>\n",
       "      <th>9</th>\n",
       "      <td>yeah when they say mirror screen they mean it ...</td>\n",
       "      <td>0</td>\n",
       "    </tr>\n",
       "  </tbody>\n",
       "</table>\n",
       "</div>"
      ],
      "text/plain": [
       "                                              Review  Sentiment\n",
       "0  fast shipping but this product is very cheaply...          0\n",
       "1  this case takes so long to ship and its not ev...          0\n",
       "2  good for not droids not good for iphones you c...          0\n",
       "3  the cable was not compatible between my macboo...          0\n",
       "4  the case is nice but did not have a glow light...          0\n",
       "5  the cable keeps coming up with message that th...          0\n",
       "6  this pos broke off in my phone after 3 uses an...          0\n",
       "7  this product suck its hard 2 hear wat other ar...          0\n",
       "8  music cuts off within 30 secs i like aukeys pr...          0\n",
       "9  yeah when they say mirror screen they mean it ...          0"
      ]
     },
     "execution_count": 16,
     "metadata": {},
     "output_type": "execute_result"
    }
   ],
   "source": [
    "unclean_data.head(10)"
   ]
  },
  {
   "cell_type": "code",
   "execution_count": 17,
   "id": "7c34dc21",
   "metadata": {},
   "outputs": [],
   "source": [
    "# data is now cleaned\n",
    "clean_data = unclean_data"
   ]
  },
  {
   "cell_type": "code",
   "execution_count": 18,
   "id": "03714036",
   "metadata": {},
   "outputs": [],
   "source": [
    "tokenizer = TweetTokenizer()\n",
    "clean_data['Review'] = clean_data['Review'].apply(tokenizer.tokenize)"
   ]
  },
  {
   "cell_type": "code",
   "execution_count": 19,
   "id": "cd69311d",
   "metadata": {},
   "outputs": [
    {
     "data": {
      "text/html": [
       "<div>\n",
       "<style scoped>\n",
       "    .dataframe tbody tr th:only-of-type {\n",
       "        vertical-align: middle;\n",
       "    }\n",
       "\n",
       "    .dataframe tbody tr th {\n",
       "        vertical-align: top;\n",
       "    }\n",
       "\n",
       "    .dataframe thead th {\n",
       "        text-align: right;\n",
       "    }\n",
       "</style>\n",
       "<table border=\"1\" class=\"dataframe\">\n",
       "  <thead>\n",
       "    <tr style=\"text-align: right;\">\n",
       "      <th></th>\n",
       "      <th>Review</th>\n",
       "      <th>Sentiment</th>\n",
       "    </tr>\n",
       "  </thead>\n",
       "  <tbody>\n",
       "    <tr>\n",
       "      <th>0</th>\n",
       "      <td>[fast, shipping, but, this, product, is, very,...</td>\n",
       "      <td>0</td>\n",
       "    </tr>\n",
       "    <tr>\n",
       "      <th>1</th>\n",
       "      <td>[this, case, takes, so, long, to, ship, and, i...</td>\n",
       "      <td>0</td>\n",
       "    </tr>\n",
       "    <tr>\n",
       "      <th>2</th>\n",
       "      <td>[good, for, not, droids, not, good, for, iphon...</td>\n",
       "      <td>0</td>\n",
       "    </tr>\n",
       "    <tr>\n",
       "      <th>3</th>\n",
       "      <td>[the, cable, was, not, compatible, between, my...</td>\n",
       "      <td>0</td>\n",
       "    </tr>\n",
       "    <tr>\n",
       "      <th>4</th>\n",
       "      <td>[the, case, is, nice, but, did, not, have, a, ...</td>\n",
       "      <td>0</td>\n",
       "    </tr>\n",
       "    <tr>\n",
       "      <th>...</th>\n",
       "      <td>...</td>\n",
       "      <td>...</td>\n",
       "    </tr>\n",
       "    <tr>\n",
       "      <th>24995</th>\n",
       "      <td>[these, cables, lightning, are, far, superior,...</td>\n",
       "      <td>1</td>\n",
       "    </tr>\n",
       "    <tr>\n",
       "      <th>24996</th>\n",
       "      <td>[this, unit, performs, exactly, as, advertised...</td>\n",
       "      <td>1</td>\n",
       "    </tr>\n",
       "    <tr>\n",
       "      <th>24997</th>\n",
       "      <td>[i, had, the, key, cut, at, a, local, hardware...</td>\n",
       "      <td>1</td>\n",
       "    </tr>\n",
       "    <tr>\n",
       "      <th>24998</th>\n",
       "      <td>[i, love, my, case, i, ordered, from, amazon, ...</td>\n",
       "      <td>1</td>\n",
       "    </tr>\n",
       "    <tr>\n",
       "      <th>24999</th>\n",
       "      <td>[awsome, i, loved, this, little, speaker, it, ...</td>\n",
       "      <td>1</td>\n",
       "    </tr>\n",
       "  </tbody>\n",
       "</table>\n",
       "<p>24771 rows × 2 columns</p>\n",
       "</div>"
      ],
      "text/plain": [
       "                                                  Review  Sentiment\n",
       "0      [fast, shipping, but, this, product, is, very,...          0\n",
       "1      [this, case, takes, so, long, to, ship, and, i...          0\n",
       "2      [good, for, not, droids, not, good, for, iphon...          0\n",
       "3      [the, cable, was, not, compatible, between, my...          0\n",
       "4      [the, case, is, nice, but, did, not, have, a, ...          0\n",
       "...                                                  ...        ...\n",
       "24995  [these, cables, lightning, are, far, superior,...          1\n",
       "24996  [this, unit, performs, exactly, as, advertised...          1\n",
       "24997  [i, had, the, key, cut, at, a, local, hardware...          1\n",
       "24998  [i, love, my, case, i, ordered, from, amazon, ...          1\n",
       "24999  [awsome, i, loved, this, little, speaker, it, ...          1\n",
       "\n",
       "[24771 rows x 2 columns]"
      ]
     },
     "execution_count": 19,
     "metadata": {},
     "output_type": "execute_result"
    }
   ],
   "source": [
    "clean_data"
   ]
  },
  {
   "cell_type": "markdown",
   "id": "69107b28",
   "metadata": {},
   "source": [
    "### Lemmatization"
   ]
  },
  {
   "cell_type": "code",
   "execution_count": 22,
   "id": "bf5b8d13",
   "metadata": {},
   "outputs": [],
   "source": [
    "lemmatizer = WordNetLemmatizer()\n",
    "def lemmatize_word(tokens):\n",
    "    return \" \".join([lemmatizer.lemmatize(token) for token in tokens])\n",
    "\n",
    "clean_data['Review'] = clean_data['Review'].apply(lemmatize_word)"
   ]
  },
  {
   "cell_type": "markdown",
   "id": "cf396782",
   "metadata": {},
   "source": [
    "### Split dataset into Train and Test"
   ]
  },
  {
   "cell_type": "code",
   "execution_count": 24,
   "id": "bb6455dc",
   "metadata": {},
   "outputs": [
    {
     "name": "stdout",
     "output_type": "stream",
     "text": [
      "Shape of X_train: 19816\n",
      "Shape of Y_train: 19816\n",
      "Shape of X_test: 4955\n",
      "Shape of Y_test: 4955\n",
      "24771\n"
     ]
    }
   ],
   "source": [
    "X = clean_data['Review']\n",
    "Y = clean_data['Sentiment']\n",
    "X_train, X_test , Y_train, Y_test = train_test_split(X,Y, test_size= 0.2,shuffle= True ,random_state= 1101)\n",
    "print(\"Shape of X_train:\" , X_train.shape[0])\n",
    "print(\"Shape of Y_train:\" , Y_train.shape[0])\n",
    "print(\"Shape of X_test:\" , X_test.shape[0])\n",
    "print(\"Shape of Y_test:\" , X_test.shape[0])\n",
    "print(clean_data['Review'].shape[0])"
   ]
  },
  {
   "cell_type": "markdown",
   "id": "a1e1aee8",
   "metadata": {},
   "source": [
    "### Vectorization"
   ]
  },
  {
   "cell_type": "code",
   "execution_count": 25,
   "id": "8c33f055",
   "metadata": {},
   "outputs": [
    {
     "name": "stdout",
     "output_type": "stream",
     "text": [
      "(4955, 33800)\n",
      "(19816, 33800)\n"
     ]
    }
   ],
   "source": [
    "# Initialize object\n",
    "vectorizer  = TfidfVectorizer()\n",
    "\n",
    "# Convert all the reviews into TFIDF\n",
    "tf_idf_X_train = vectorizer.fit_transform(X_train)\n",
    "tf_idf_X_test = vectorizer.transform(X_test)\n",
    "print(tf_idf_X_test.shape) # checking if both have the same number of features\n",
    "print(tf_idf_X_train.shape)"
   ]
  },
  {
   "cell_type": "markdown",
   "id": "c8a32c0a",
   "metadata": {},
   "source": [
    "### Train the Model (RandomForest, LR)"
   ]
  },
  {
   "cell_type": "code",
   "execution_count": 27,
   "id": "ba873e5b",
   "metadata": {},
   "outputs": [
    {
     "name": "stdout",
     "output_type": "stream",
     "text": [
      "accuracy on the training set with 50 trees: 0.9985870004037142\n",
      "accuracy on the test set with 50 trees: 0.7824419778002019\n",
      "\n",
      "accuracy on the training set with 100 trees: 0.9985870004037142\n",
      "accuracy on the test set with 100 trees: 0.7927346115035317\n",
      "\n",
      "accuracy on the training set with 150 trees: 0.9985870004037142\n",
      "accuracy on the test set with 150 trees: 0.7937436932391524\n",
      "\n",
      "accuracy on the training set with 200 trees: 0.9985870004037142\n",
      "accuracy on the test set with 200 trees: 0.7909182643794147\n",
      "\n"
     ]
    }
   ],
   "source": [
    "from sklearn.ensemble import RandomForestClassifier\n",
    "number_of_trees = [50, 100, 150, 200]\n",
    "for i in number_of_trees:\n",
    "    random_forest_clf =  RandomForestClassifier(n_estimators=i)\n",
    "    random_forest_model = random_forest_clf.fit(tf_idf_X_train, Y_train) # fit the model\n",
    "    predict_random_forest_model_test = random_forest_model.predict(tf_idf_X_test)\n",
    "    predict_random_forest_model_train = random_forest_model.predict(tf_idf_X_train)\n",
    "    train_set_accuracy = accuracy_score(predict_random_forest_model_train, Y_train)\n",
    "    test_set_accuracy = accuracy_score(predict_random_forest_model_test, Y_test)\n",
    "    print(f\"accuracy on the training set with {i} trees: {train_set_accuracy}\")\n",
    "    print(f\"accuracy on the test set with {i} trees: {test_set_accuracy}\\n\")"
   ]
  },
  {
   "cell_type": "code",
   "execution_count": 28,
   "id": "d0b9aefd",
   "metadata": {},
   "outputs": [
    {
     "name": "stdout",
     "output_type": "stream",
     "text": [
      "Best Parameters: {'C': 1, 'penalty': 'l2', 'solver': 'lbfgs'}\n",
      "Mean Cross-Validation Accuracy: 0.8279167694718019\n",
      "Test Accuracy: 0.82744702320888\n"
     ]
    }
   ],
   "source": [
    "from sklearn.linear_model import LogisticRegression\n",
    "from sklearn.model_selection import GridSearchCV\n",
    "logistic_model = LogisticRegression(max_iter=500, random_state=1101)\n",
    "\n",
    "param_grid = {\n",
    "    'C': [0.01 ,0.1, 1, 10, 100], \n",
    "    'penalty': ['l2'],  \n",
    "    'solver': ['lbfgs']  \n",
    "}\n",
    "grid_search_logistic = GridSearchCV(estimator=logistic_model, param_grid= param_grid,scoring='accuracy', cv = 5)\n",
    "grid_search_logistic.fit(tf_idf_X_train, Y_train)\n",
    "\n",
    "# Best parameters and average accuracy score\n",
    "print(\"Best Parameters:\", grid_search_logistic.best_params_)\n",
    "print(\"Mean Cross-Validation Accuracy:\", grid_search_logistic.best_score_)\n",
    "\n",
    "# Evaluate on the test set\n",
    "best_log_reg = grid_search_logistic.best_estimator_\n",
    "test_accuracy = accuracy_score(Y_test, best_log_reg.predict(tf_idf_X_test))\n",
    "print(\"Test Accuracy:\", test_accuracy)"
   ]
  },
  {
   "cell_type": "code",
   "execution_count": 33,
   "id": "68d98ab3",
   "metadata": {},
   "outputs": [
    {
     "name": "stdout",
     "output_type": "stream",
     "text": [
      "Prediction: [1]\n"
     ]
    }
   ],
   "source": [
    "new_text = [\"the customer service was awesome\"]\n",
    "new_vector = vectorizer.transform(new_text)\n",
    "prediction = best_log_reg.predict(new_vector)\n",
    "print(\"Prediction:\", prediction)\n"
   ]
  },
  {
   "cell_type": "code",
   "execution_count": null,
   "id": "ddbdd0e9",
   "metadata": {},
   "outputs": [],
   "source": []
  }
 ],
 "metadata": {
  "kernelspec": {
   "display_name": ".venv",
   "language": "python",
   "name": "python3"
  },
  "language_info": {
   "name": "python",
   "version": "3.12.4"
  }
 },
 "nbformat": 4,
 "nbformat_minor": 5
}
