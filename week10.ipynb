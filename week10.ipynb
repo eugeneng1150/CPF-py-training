{
 "cells": [
  {
   "cell_type": "markdown",
   "id": "e45e4ed3",
   "metadata": {},
   "source": [
    "# Can be done using Request, API, Langchain"
   ]
  },
  {
   "cell_type": "markdown",
   "id": "a6dc08be",
   "metadata": {},
   "source": []
  }
 ],
 "metadata": {
  "language_info": {
   "name": "python"
  }
 },
 "nbformat": 4,
 "nbformat_minor": 5
}
