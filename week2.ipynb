{
 "cells": [
  {
   "cell_type": "markdown",
   "id": "d6e59cd9",
   "metadata": {},
   "source": [
    "# Week 2: Python Lists, Indexing, and Ranges\n",
    "\n",
    "- Understanding indexing and slicing a list\n",
    "- Understanding and using `range()`\n",
    "- Getting the size of a list with `len()`\n",
    "- Common list methods: `append()`, `remove()`, `sort()`, etc.\n",
    "- Practice: using loops to manipulate and analyze lists\n"
   ]
  },
  {
   "cell_type": "markdown",
   "id": "8a835370",
   "metadata": {},
   "source": [
    "\n",
    "## Understanding a List in Python\n",
    "\n",
    "A **list** is a built-in data structure in Python used to store a **collection of items**. Lists are:\n",
    "- **Ordered**: Items have a fixed order.\n",
    "- **Changeable**: You can add, remove, or update items.\n",
    "- **Indexed**: You can access each item using its position (starting from 0).\n",
    "- **Allow duplicates**: The same value can appear more than once.\n",
    "\n",
    "### Creating a List\n",
    "```python\n",
    "fruits = [\"apple\", \"banana\", \"cherry\"]\n",
    "```\n",
    "\n",
    "### Accessing Items\n",
    "```python\n",
    "print(fruits[0])    # Output: apple\n",
    "print(fruits[-1])   # Output: cherry (last item)\n",
    "```\n",
    "\n",
    "### Modifying a List\n",
    "```python\n",
    "fruits[1] = \"orange\"  # Change \"banana\" to \"orange\"\n",
    "```\n",
    "\n",
    "### Common List Methods\n",
    "```python\n",
    "fruits.append(\"grape\")     # Add item to the end\n",
    "fruits.remove(\"apple\")     # Remove a specific item\n",
    "fruits.sort()              # Sort items alphabetically\n",
    "```\n",
    "\n",
    "### Looping Through a List\n",
    "```python\n",
    "for fruit in fruits:\n",
    "    print(fruit)\n",
    "```\n",
    "\n",
    "\n",
    "\n",
    "Lists are one of the most commonly used data structures in Python and are essential for working with collections of data.\n"
   ]
  },
  {
   "cell_type": "code",
   "execution_count": null,
   "id": "2f75cc12",
   "metadata": {},
   "outputs": [
    {
     "name": "stdout",
     "output_type": "stream",
     "text": [
      "[10, 2, 3]\n"
     ]
    }
   ],
   "source": [
    "x = [1, 2, 3]\n",
    "y = x\n",
    "y[0] = 10\n",
    "print(x)"
   ]
  },
  {
   "cell_type": "markdown",
   "id": "e1577e30",
   "metadata": {},
   "source": [
    "![example](./images/list_example1.png)"
   ]
  },
  {
   "cell_type": "code",
   "execution_count": null,
   "id": "c8e506b4",
   "metadata": {},
   "outputs": [
    {
     "name": "stdout",
     "output_type": "stream",
     "text": [
      "[1, 2, 3]\n"
     ]
    }
   ],
   "source": [
    "x = [1, 2, 3]\n",
    "y = x[:]   # when slicing a list, it creates a new object and y does not point to x anymore\n",
    "y[0] = 10\n",
    "print(x)  \n"
   ]
  },
  {
   "cell_type": "markdown",
   "id": "5711ffa7",
   "metadata": {},
   "source": [
    "![example](./images/list_example2.png)"
   ]
  },
  {
   "cell_type": "markdown",
   "id": "9bfdde29",
   "metadata": {},
   "source": [
    "## Common List Operations in Python\n",
    "\n",
    "Python lists are flexible and support many built-in operations for adding, removing, and modifying elements.\n",
    "\n",
    "### 1. `append()`\n",
    "Adds an item to the **end** of the list.\n",
    "```python\n",
    "fruits = [\"apple\", \"banana\"]\n",
    "fruits.append(\"cherry\")\n",
    "print(fruits)  # ['apple', 'banana', 'cherry']\n",
    "```\n",
    "\n",
    "---\n",
    "\n",
    "### 2. `remove()`\n",
    "Removes the **first occurrence** of a specified value.\n",
    "```python\n",
    "numbers = [1, 2, 3, 2]\n",
    "numbers.remove(2)\n",
    "print(numbers)  # [1, 3, 2]\n",
    "```\n",
    "> Note: If the item is not found, `remove()` will raise a `ValueError`.\n",
    "\n",
    "---\n",
    "\n",
    "### 3. `sort()`\n",
    "Sorts the list **in-place** in ascending order by default.\n",
    "```python\n",
    "scores = [50, 20, 70, 40]\n",
    "scores.sort()\n",
    "print(scores)  # [20, 40, 50, 70]\n",
    "```\n",
    "To sort in descending order:\n",
    "```python\n",
    "scores.sort(reverse=True)\n",
    "```\n",
    "\n",
    "---\n",
    "\n",
    "### 4. `+=` Operator\n",
    "Adds elements to a list (extends it with another list).\n",
    "```python\n",
    "a = [1, 2]\n",
    "b = [3, 4]\n",
    "a += b\n",
    "print(a)  # [1, 2, 3, 4]\n",
    "```\n",
    "It works like `a.extend(b)` — updates list `a` in-place.\n",
    "\n",
    "\n",
    "These operations are especially useful when building, filtering, or sorting data before analysis.\n"
   ]
  },
  {
   "cell_type": "markdown",
   "id": "ddfb9d8a",
   "metadata": {},
   "source": [
    "## Difference Between `append()` and `extend()`\n",
    "\n",
    "Both `append()` and `extend()` are used to add elements to a list — but they work differently.\n",
    "\n",
    "---\n",
    "\n",
    "### 1. `append()`\n",
    "Adds the entire argument as a **single element**, even if it’s a list.\n",
    "\n",
    "```python\n",
    "letters = ['a', 'b']\n",
    "letters.append(['c', 'd'])\n",
    "print(letters)  # ['a', 'b', ['c', 'd']]\n",
    "```\n",
    "\n",
    "- The list `['c', 'd']` is added as **one item** (a sublist).\n",
    "- Length of the result = 3\n",
    "\n",
    "---\n",
    "\n",
    "### 2. `extend()`\n",
    "Takes an **iterable** (e.g. list, tuple, string) and adds each element to the list.\n",
    "\n",
    "```python\n",
    "letters = ['a', 'b']\n",
    "letters.extend(['c', 'd'])\n",
    "print(letters)  # ['a', 'b', 'c', 'd']\n",
    "```\n",
    "\n",
    "- The elements `c` and `d` are added **individually**.\n",
    "- Length of the result = 4\n",
    "\n",
    "---"
   ]
  },
  {
   "cell_type": "markdown",
   "id": "63be08bc",
   "metadata": {},
   "source": [
    "## Hands on quiz for lists"
   ]
  },
  {
   "cell_type": "code",
   "execution_count": 10,
   "id": "5d3f2e10",
   "metadata": {},
   "outputs": [
    {
     "name": "stdout",
     "output_type": "stream",
     "text": [
      "Correct!\n"
     ]
    }
   ],
   "source": [
    "# What will be printed?\n",
    "numbers = [3, 6, 9, 12]\n",
    "result = numbers[2]\n",
    "\n",
    "guess = -1\n",
    "while guess != result:\n",
    "    guess = int(input(\"Guess the value of 'result': \"))\n",
    "    if guess != result:\n",
    "        print(\"Try again!\")\n",
    "\n",
    "print(\"Correct!\")\n"
   ]
  },
  {
   "cell_type": "code",
   "execution_count": 11,
   "id": "5fbad876",
   "metadata": {},
   "outputs": [
    {
     "name": "stdout",
     "output_type": "stream",
     "text": [
      "Correct!\n"
     ]
    }
   ],
   "source": [
    "# What is the final content of 'data'?\n",
    "data = [1, 2, 3]\n",
    "data[1] = data[1] + 5\n",
    "data.append(10)\n",
    "result = data[-1]\n",
    "\n",
    "guess = -1\n",
    "while guess != result:\n",
    "    guess = int(input(\"What is the last value in 'data'? \"))\n",
    "    if guess != result:\n",
    "        print(\"Try again!\")\n",
    "\n",
    "print(\"Correct!\")\n"
   ]
  },
  {
   "cell_type": "code",
   "execution_count": 12,
   "id": "c2bd7659",
   "metadata": {},
   "outputs": [
    {
     "name": "stdout",
     "output_type": "stream",
     "text": [
      "Correct!\n"
     ]
    }
   ],
   "source": [
    "# What is the value of x after modifying y?\n",
    "x = [4, 5, 6]\n",
    "y = x\n",
    "y[0] = 99\n",
    "result = x[0]\n",
    "\n",
    "guess = -1\n",
    "while guess != result:\n",
    "    guess = int(input(\"What is x[0] after modifying y? \"))\n",
    "    if guess != result:\n",
    "        print(\"Try again!\")\n",
    "\n",
    "print(\"Correct!\")\n"
   ]
  },
  {
   "cell_type": "markdown",
   "id": "65be9c09",
   "metadata": {},
   "source": [
    "## Using `range()` in Python\n",
    "\n",
    "The `range()` function is used to generate a sequence of numbers. It is commonly used in `for` loops to repeat actions a certain number of times.\n",
    "\n",
    "### Syntax:\n",
    "```python\n",
    "range(stop)\n",
    "range(start, stop)\n",
    "range(start, stop, step)\n",
    "```\n",
    "\n",
    "- `start` (optional): the starting number (default is 0)\n",
    "- `stop`: the number to stop *before*\n",
    "- `step` (optional): how much to increase by (default is 1)\n",
    "\n",
    "### Examples:\n",
    "```python\n",
    "for i in range(5):\n",
    "    print(i)  # prints 0 1,2,3, 4\n",
    "```\n",
    "\n",
    "```python\n",
    "for i in range(2, 6):\n",
    "    print(i)  # prints 2, 3, 4, 5 (note that 6 is not printed)\n",
    "```\n",
    "\n",
    "```python\n",
    "for i in range(1, 10, 2):\n",
    "    print(i)  # prints 1, 3, 5, 7, 9\n",
    "```\n",
    "```python\n",
    "for i in range(5,1,-1):\n",
    "    print(i) # prints 5,4,3,2 (note that 1 is not included)\n",
    "```\n",
    "\n",
    "\n",
    "You can also convert a range into a list:\n",
    "```python\n",
    "list(range(4))  # [0, 1, 2, 3]\n",
    "```\n"
   ]
  },
  {
   "cell_type": "code",
   "execution_count": 15,
   "id": "099a9a2d",
   "metadata": {},
   "outputs": [
    {
     "name": "stdout",
     "output_type": "stream",
     "text": [
      "Correct!\n"
     ]
    }
   ],
   "source": [
    "# What is the last number printed?\n",
    "for i in range(3, 8):\n",
    "    x = i\n",
    "\n",
    "guess = -1\n",
    "while guess != x:\n",
    "    guess = int(input(\"What is the last number printed? \"))\n",
    "    if guess != x:\n",
    "        print(\"Try again!\")\n",
    "\n",
    "print(\"Correct!\")\n"
   ]
  },
  {
   "cell_type": "code",
   "execution_count": 18,
   "id": "e86e9ebb",
   "metadata": {},
   "outputs": [
    {
     "name": "stdout",
     "output_type": "stream",
     "text": [
      "Correct!\n"
     ]
    }
   ],
   "source": [
    "count = 0\n",
    "for i in range(2, 10, 2):\n",
    "    count += 1  # Count how many numbers are printed\n",
    "\n",
    "guess = -1\n",
    "while guess != count:\n",
    "    guess = int(input(\"How many numbers were printed? \"))\n",
    "    if guess != count:\n",
    "        print(\"Try again!\")\n",
    "\n",
    "print(\"Correct!\")\n"
   ]
  },
  {
   "cell_type": "markdown",
   "id": "a61bfacf",
   "metadata": {},
   "source": [
    "## Understanding `len()` in Python\n",
    "\n",
    "The `len()` function returns the **number of items** in a sequence (like a list, string, or tuple).\n",
    "\n",
    "### Syntax:\n",
    "```python\n",
    "len(object)\n",
    "```\n",
    "\n",
    "### Examples:\n",
    "\n",
    "#### 1. Using `len()` on a list:\n",
    "```python\n",
    "fruits = [\"apple\", \"banana\", \"cherry\"]\n",
    "print(len(fruits))  # Output: 3\n",
    "```\n",
    "\n",
    "#### 2. Using `len()` on a string:\n",
    "```python\n",
    "message = \"hello\"\n",
    "print(len(message))  # Output: 5\n",
    "```\n",
    "\n",
    "#### 3. Using `len()` in a loop:\n",
    "```python\n",
    "for i in range(len(fruits)):\n",
    "    print(fruits[i])\n",
    "```\n",
    "\n",
    "This loop prints each item in the list by index.\n",
    "\n",
    "### Notes:\n",
    "- `len()` counts the total number of **elements**, not their values.\n",
    "- Works with strings, lists, tuples, dictionaries\n",
    "\n"
   ]
  },
  {
   "cell_type": "code",
   "execution_count": 19,
   "id": "49190a8e",
   "metadata": {},
   "outputs": [
    {
     "name": "stdout",
     "output_type": "stream",
     "text": [
      "Try again!\n",
      "Correct!\n"
     ]
    }
   ],
   "source": [
    "names = [\"Alice\", \"Bob\", \"Celine\", \"David\", \"Eve\"]\n",
    "length = len(names)\n",
    "\n",
    "guess = -1\n",
    "while guess != length:\n",
    "    guess = int(input(\"What is the length of the list? \"))\n",
    "    if guess != length:\n",
    "        print(\"Try again!\")\n",
    "\n",
    "print(\"Correct!\")\n"
   ]
  },
  {
   "cell_type": "code",
   "execution_count": 20,
   "id": "70ea9803",
   "metadata": {},
   "outputs": [
    {
     "name": "stdout",
     "output_type": "stream",
     "text": [
      "Correct!\n"
     ]
    }
   ],
   "source": [
    "word = \"banana\"\n",
    "length = len(word)\n",
    "\n",
    "guess = -1\n",
    "while guess != length:\n",
    "    guess = int(input(\"How many characters are in the word 'banana'? \"))\n",
    "    if guess != length:\n",
    "        print(\"Try again!\")\n",
    "\n",
    "print(\"Correct!\")\n"
   ]
  },
  {
   "cell_type": "code",
   "execution_count": null,
   "id": "55b2b1a1",
   "metadata": {},
   "outputs": [],
   "source": [
    "# Write a for loop to calculate and print the numbers from 1 to 10"
   ]
  },
  {
   "cell_type": "code",
   "execution_count": 24,
   "id": "73da4ae1",
   "metadata": {},
   "outputs": [],
   "source": [
    "# Write a for loop to count the sum of the digits from 1 to 10"
   ]
  },
  {
   "cell_type": "code",
   "execution_count": 25,
   "id": "2d1b81ed",
   "metadata": {},
   "outputs": [],
   "source": [
    "# Write a while loop that starts from 5 and counts down to 1. Print each number."
   ]
  },
  {
   "cell_type": "code",
   "execution_count": 23,
   "id": "a708118e",
   "metadata": {},
   "outputs": [],
   "source": [
    "password = \"abc123\"\n",
    "# Your tasks: Write a while loop to repeatedly ask the user to type the password.  Stop only when the correct password is entered\n",
    "# input(\"what is the password\") use this input function inside your code"
   ]
  }
 ],
 "metadata": {
  "kernelspec": {
   "display_name": ".venv",
   "language": "python",
   "name": "python3"
  },
  "language_info": {
   "codemirror_mode": {
    "name": "ipython",
    "version": 3
   },
   "file_extension": ".py",
   "mimetype": "text/x-python",
   "name": "python",
   "nbconvert_exporter": "python",
   "pygments_lexer": "ipython3",
   "version": "3.12.4"
  }
 },
 "nbformat": 4,
 "nbformat_minor": 5
}
