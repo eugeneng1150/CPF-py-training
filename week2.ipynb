{
 "cells": [
  {
   "cell_type": "markdown",
   "id": "d6e59cd9",
   "metadata": {},
   "source": [
    "# Week 2: Python Lists, Indexing, and Ranges\n",
    "\n",
    "- Understanding and using `range()`\n",
    "- Getting the size of a list with `len()`\n",
    "- Indexing and slicing lists\n",
    "- Common list methods: `append()`, `remove()`, `sort()`, etc.\n",
    "- Practice: using loops to manipulate and analyze lists\n"
   ]
  },
  {
   "cell_type": "markdown",
   "id": "87e67fec",
   "metadata": {},
   "source": [
    "## Using `range()` in Python\n",
    "\n",
    "The `range()` function is used to generate a sequence of numbers. It is commonly used in `for` loops to repeat actions a certain number of times.\n",
    "\n",
    "### Syntax:\n",
    "```python\n",
    "range(stop)\n",
    "range(start, stop)\n",
    "range(start, stop, step)\n",
    "```\n",
    "\n",
    "- `start` (optional): the starting number (default is 0)\n",
    "- `stop`: the number to stop *before*\n",
    "- `step` (optional): how much to increase by (default is 1)\n",
    "\n",
    "### Examples:\n",
    "```python\n",
    "for i in range(5):\n",
    "    print(i)  # prints 0 1,2,3, 4\n",
    "```\n",
    "\n",
    "```python\n",
    "for i in range(2, 6):\n",
    "    print(i)  # prints 2, 3, 4, 5\n",
    "```\n",
    "\n",
    "```python\n",
    "for i in range(1, 10, 2):\n",
    "    print(i)  # prints 1, 3, 5, 7, 9\n",
    "```\n",
    "\n",
    "You can also convert a range into a list:\n",
    "```python\n",
    "list(range(4))  # [0, 1, 2, 3]\n",
    "```\n"
   ]
  },
  {
   "cell_type": "markdown",
   "id": "2606c352",
   "metadata": {},
   "source": []
  }
 ],
 "metadata": {
  "language_info": {
   "name": "python"
  }
 },
 "nbformat": 4,
 "nbformat_minor": 5
}
