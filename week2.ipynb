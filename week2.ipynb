{
 "cells": [
  {
   "cell_type": "markdown",
   "id": "d6e59cd9",
   "metadata": {},
   "source": [
    "# Week 2: Python Lists, Indexing, and Ranges\n",
    "\n",
    "- Understanding and using `range()`\n",
    "- Getting the size of a list with `len()`\n",
    "- Indexing and slicing lists\n",
    "- Common list methods: `append()`, `remove()`, `sort()`, etc.\n",
    "- Practice: using loops to manipulate and analyze lists\n"
   ]
  },
  {
   "cell_type": "markdown",
   "id": "87e67fec",
   "metadata": {},
   "source": [
    "## Using `range()` in Python\n",
    "\n",
    "The `range()` function is used to generate a sequence of numbers. It is commonly used in `for` loops to repeat actions a certain number of times.\n",
    "\n",
    "### Syntax:\n",
    "```python\n",
    "range(stop)\n",
    "range(start, stop)\n",
    "range(start, stop, step)\n",
    "```\n",
    "\n",
    "- `start` (optional): the starting number (default is 0)\n",
    "- `stop`: the number to stop *before*\n",
    "- `step` (optional): how much to increase by (default is 1)\n",
    "\n",
    "### Examples:\n",
    "```python\n",
    "for i in range(5):\n",
    "    print(i)  # prints 0 1,2,3, 4\n",
    "```\n",
    "\n",
    "```python\n",
    "for i in range(2, 6):\n",
    "    print(i)  # prints 2, 3, 4, 5 (note that 6 is not printed)\n",
    "```\n",
    "\n",
    "```python\n",
    "for i in range(1, 10, 2):\n",
    "    print(i)  # prints 1, 3, 5, 7, 9\n",
    "```\n",
    "```python\n",
    "for i in range(5,1,-1):\n",
    "    print(i) # prints 5,4,3,2 (note that 1 is not included)\n",
    "```\n",
    "\n",
    "\n",
    "You can also convert a range into a list:\n",
    "```python\n",
    "list(range(4))  # [0, 1, 2, 3]\n",
    "```\n"
   ]
  },
  {
   "cell_type": "code",
   "execution_count": null,
   "id": "49190a8e",
   "metadata": {},
   "outputs": [],
   "source": []
  }
 ],
 "metadata": {
  "kernelspec": {
   "display_name": ".venv",
   "language": "python",
   "name": "python3"
  },
  "language_info": {
   "codemirror_mode": {
    "name": "ipython",
    "version": 3
   },
   "file_extension": ".py",
   "mimetype": "text/x-python",
   "name": "python",
   "nbconvert_exporter": "python",
   "pygments_lexer": "ipython3",
   "version": "3.12.4"
  }
 },
 "nbformat": 4,
 "nbformat_minor": 5
}
