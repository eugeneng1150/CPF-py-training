{
 "cells": [
  {
   "cell_type": "markdown",
   "id": "e0e781fc",
   "metadata": {},
   "source": [
    "### Week 4: Dictionaries, Tuples, and Sets\n",
    "\n",
    "- **Understanding dictionaries**: key-value pairs, adding and accessing values\n",
    "- **Tuples**: immutable sequences and how they differ from lists\n",
    "\n",
    "- **Common methods and operations**:\n",
    "  - For dictionaries: `.get()`, `.keys()`, `.values()`, `.items()`\n",
    "- **When to use each data structure in analytics**\n",
    "- **Practice**: \n",
    "  - Store and retrieve data using dictionaries\n",
    "  - Use tuples for fixed-size data (e.g., coordinates)\n",
    "  - Remove duplicates using sets  \n",
    "  - *Mini challenge*: simulate a simple lookup table using a dictionary\n",
    "  ---\n"
   ]
  },
  {
   "cell_type": "markdown",
   "id": "23367136",
   "metadata": {},
   "source": [
    "## What is a Dictionary in Python?\n",
    "\n",
    "A **dictionary** is a built-in data structure in Python used to store data in **key-value pairs**. Each key is associated with a value, allowing for fast lookups and organized data storage.\n",
    "\n",
    "Example:\n",
    "\n",
    "```python\n",
    "student = {\n",
    "    \"name\": \"Alice\",\n",
    "    \"age\": 22,\n",
    "    \"major\": \"Data Science\"\n",
    "}\n",
    "```\n",
    "\"name\", \"age\", and \"major\" are keys\n",
    "\n",
    "\"Alice\", 22, and \"Data Science\" are their corresponding values\n",
    "\n",
    "**You can access a value using its key:**\n",
    "```py\n",
    "print(student[\"age\"])  # Output: 22\n",
    "```\n"
   ]
  },
  {
   "cell_type": "markdown",
   "id": "648ce6e0",
   "metadata": {},
   "source": [
    "### Rules for Dictionary Keys\n",
    "\n",
    "- **Keys must be unique**: If the same key appears more than once, the last value will overwrite any previous value.\n",
    "\n",
    "```python\n",
    "info = {\"x\": 1, \"x\": 99}\n",
    "print(info)  # Output: {'x': 99}\n"
   ]
  },
  {
   "cell_type": "markdown",
   "id": "7b738fb1",
   "metadata": {},
   "source": [
    "### Keys Must Be Immutable\n",
    "\n",
    "In Python dictionaries, **keys must be immutable**, meaning they cannot change after being created. This is because dictionaries use a hashing mechanism to store and retrieve keys efficiently, and mutable objects can change their hash, which would break the dictionary's internal structure.\n",
    "\n",
    "✅ Valid key types include:\n",
    "- Strings (`\"name\"`)\n",
    "- Numbers (`42`)\n",
    "- Tuples (`(1, 2)`)\n",
    "\n",
    "These are all immutable and safe to use as dictionary keys.\n",
    "\n",
    "❌ Invalid key types include:\n",
    "- Lists (`[1, 2]`)\n",
    "- Dictionaries (`{\"a\": 1}`)\n",
    "- Sets (`{1, 2}`)\n",
    "\n",
    "These are mutable and cannot be used as keys.\n",
    "\n",
    "Example of an invalid key:\n",
    "\n",
    "```python\n",
    "# ❌ Invalid: list is mutable and unhashable\n",
    "my_dict = {[1, 2]: \"value\"}  # TypeError: unhashable type: 'list'\n",
    "```\n",
    "---------"
   ]
  },
  {
   "cell_type": "markdown",
   "id": "0bf01780",
   "metadata": {},
   "source": [
    "# Common Dictionary Methods in Python\n",
    "\n",
    "These are some essential methods to interact with dictionaries in Python"
   ]
  },
  {
   "cell_type": "markdown",
   "id": "ac152f86",
   "metadata": {},
   "source": [
    "## `.get(key, default)`\n",
    "\n",
    "Safely retrieve the value for a given key. If the key is not found, it returns the default value instead of an error."
   ]
  },
  {
   "cell_type": "code",
   "execution_count": 16,
   "id": "41291c83",
   "metadata": {},
   "outputs": [
    {
     "name": "stdout",
     "output_type": "stream",
     "text": [
      "1\n",
      "0\n"
     ]
    }
   ],
   "source": [
    "d = {'a': 1, 'b': 2}\n",
    "print(d.get('a'))          # Output: 1\n",
    "print(d.get('z', 0))       # Output: 0 (default)"
   ]
  },
  {
   "cell_type": "markdown",
   "id": "e8376073",
   "metadata": {},
   "source": [
    "## `.keys()`\n",
    "Returns a view of all the keys in the dictionary. Often used to loop through or check what keys exist."
   ]
  },
  {
   "cell_type": "code",
   "execution_count": 17,
   "id": "bd0cf0b3",
   "metadata": {},
   "outputs": [
    {
     "name": "stdout",
     "output_type": "stream",
     "text": [
      "dict_keys(['a', 'b'])\n"
     ]
    }
   ],
   "source": [
    "d = {'a': 1, 'b': 2}\n",
    "print(d.keys())            # Output: dict_keys(['a', 'b'])"
   ]
  },
  {
   "cell_type": "markdown",
   "id": "5f659576",
   "metadata": {},
   "source": [
    "## `.values()`\n",
    "Returns a view of all the values in the dictionary. Useful when you're only interested in the data, not the keys."
   ]
  },
  {
   "cell_type": "code",
   "execution_count": 18,
   "id": "f03465af",
   "metadata": {},
   "outputs": [
    {
     "name": "stdout",
     "output_type": "stream",
     "text": [
      "dict_values([1, 2])\n"
     ]
    }
   ],
   "source": [
    "d = {'a': 1, 'b': 2}\n",
    "print(d.values())          # Output: dict_values([1, 2])"
   ]
  },
  {
   "cell_type": "markdown",
   "id": "6abdd40a",
   "metadata": {},
   "source": [
    "## `.items()`\n",
    "Returns a view of all key-value pairs in the dictionary as tuples. Ideal for looping over both keys and values."
   ]
  },
  {
   "cell_type": "code",
   "execution_count": 19,
   "id": "b7a06213",
   "metadata": {},
   "outputs": [
    {
     "name": "stdout",
     "output_type": "stream",
     "text": [
      "a 1\n",
      "b 2\n"
     ]
    }
   ],
   "source": [
    "d = {'a': 1, 'b': 2}\n",
    "for key, value in d.items():\n",
    "    print(key, value)  "
   ]
  },
  {
   "cell_type": "markdown",
   "id": "24d90650",
   "metadata": {},
   "source": [
    "---"
   ]
  },
  {
   "cell_type": "markdown",
   "id": "6b4022ec",
   "metadata": {},
   "source": [
    "# How to Add a Key-Value Pair to a Dictionary in Python\n",
    "\n",
    "To add a key-value pair to a dictionary, use the syntax:\n",
    "\n",
    "```python\n",
    "dictionary[key] = value \n",
    "```\n",
    "\n"
   ]
  },
  {
   "cell_type": "code",
   "execution_count": 15,
   "id": "bfeee9f3",
   "metadata": {},
   "outputs": [
    {
     "name": "stdout",
     "output_type": "stream",
     "text": [
      "{'Alice': (160, 55)}\n"
     ]
    }
   ],
   "source": [
    "students = {}\n",
    "students['Alice'] = (160, 55)  # Adds 'Alice' with height 160 and weight 55\n",
    "print(students)\n",
    "# Output: {'Alice': (160, 55)}\n"
   ]
  },
  {
   "cell_type": "markdown",
   "id": "d9cce31a",
   "metadata": {},
   "source": [
    "---"
   ]
  },
  {
   "cell_type": "markdown",
   "id": "1362175b",
   "metadata": {},
   "source": [
    "# Iterating Over a Dictionary in Python\n",
    "\n",
    "In Python, dictionaries store data in key-value pairs. To loop through both the keys and values, we use the `.items()` method with a `for` loop.\n",
    "\n"
   ]
  },
  {
   "cell_type": "code",
   "execution_count": 6,
   "id": "13ad46e1",
   "metadata": {},
   "outputs": [
    {
     "name": "stdout",
     "output_type": "stream",
     "text": [
      "dict_items([('x', 10), ('y', 20), ('z', 30)])\n",
      "x -> 10\n",
      "y -> 20\n",
      "z -> 30\n"
     ]
    }
   ],
   "source": [
    "# Create a dictionary 'd' with key-value pairs\n",
    "d = {'x': 10, 'y': 20, 'z': 30}\n",
    "print(d.items())\n",
    "\n",
    "# Iterate through the key-value pairs\n",
    "for dict_key, dict_value in d.items():\n",
    "    print(dict_key, '->', dict_value)"
   ]
  },
  {
   "cell_type": "markdown",
   "id": "d4d4feb0",
   "metadata": {},
   "source": [
    "## Explanation\n",
    "- d.items() returns a sequence of (key, value) pairs from the dictionary.\n",
    "\n",
    "- Inside the for loop:\n",
    "\n",
    "- dict_key takes on each key (e.g., 'x', 'y', 'z')\n",
    "\n",
    "- dict_value takes on the corresponding value (e.g., 10, 20, 30)\n",
    "\n",
    "- print(dict_key, '->', dict_value) outputs each key followed by its value in the format key -> value.\n",
    "\n",
    "---"
   ]
  },
  {
   "cell_type": "markdown",
   "id": "a7db2c1f",
   "metadata": {},
   "source": []
  },
  {
   "cell_type": "markdown",
   "id": "30056149",
   "metadata": {},
   "source": [
    "### Hands on Quiz"
   ]
  },
  {
   "cell_type": "code",
   "execution_count": 4,
   "id": "9bcc3222",
   "metadata": {},
   "outputs": [
    {
     "name": "stdout",
     "output_type": "stream",
     "text": [
      "Correct!\n",
      "\n"
     ]
    }
   ],
   "source": [
    "info = {\"name\": \"Alice\", \"age\": 25}\n",
    "info[\"age\"] = info[\"age\"] + 1\n",
    "\n",
    "correct_answer = info['age']\n",
    "guess = None\n",
    "\n",
    "while guess != correct_answer:\n",
    "    try:\n",
    "        guess = int(input(\"Q1: What does `info['age']` become after the update? \"))\n",
    "        if guess != correct_answer:\n",
    "            print(\"Try again!\")\n",
    "    except ValueError:\n",
    "        print(\"Please enter a valid number.\")\n",
    "\n",
    "print(\"Correct!\\n\")\n"
   ]
  },
  {
   "cell_type": "code",
   "execution_count": null,
   "id": "897571bc",
   "metadata": {},
   "outputs": [
    {
     "name": "stdout",
     "output_type": "stream",
     "text": [
      "✅ Correct!\n",
      "\n"
     ]
    }
   ],
   "source": [
    "fruit_prices = {\"apple\": 1.2, \"banana\": 0.5}\n",
    "fruit_prices[\"apple\"] = fruit_prices[\"apple\"] * 2\n",
    "del fruit_prices[\"banana\"]\n",
    "\n",
    "correct_answer = fruit_prices\n",
    "guess = None\n",
    "\n",
    "while guess != correct_answer:\n",
    "    try:\n",
    "        guess = eval(input(\"Q3: What does `fruit_prices` look like at the end? \"))\n",
    "        if guess != correct_answer:\n",
    "            print(\"Try again!\")\n",
    "    except:\n",
    "        print(\"Please enter a valid dictionary\")\n",
    "\n",
    "print(\"Correct!\\n\")\n"
   ]
  },
  {
   "cell_type": "code",
   "execution_count": null,
   "id": "65413639",
   "metadata": {},
   "outputs": [
    {
     "name": "stdout",
     "output_type": "stream",
     "text": [
      "{1: 1, 2: 4, 3: 9, 4: 16, 5: 25, 6: 36, 7: 49, 8: 64, 9: 81, 10: 100, 11: 121, 12: 144, 13: 169, 14: 196, 15: 225}\n"
     ]
    }
   ],
   "source": [
    "# Write a Python script to print a dictionary where the keys are numbers between 1 and 15 (both included) \n",
    "# and the values are the square of the keys.\n",
    "\n",
    "# {1: 1, 2: 4, 3: 9, 4: 16, 5: 25, 6: 36, 7: 49, 8: 64, 9: 81, 10: 100, 11: 121, 12: 144, 13: 169, 14: 196, 15: 225}\n",
    "\n",
    "###### YOUR CODE STARTS HERE #############\n",
    "res = {}\n",
    "for i in range(1,16):\n",
    "    res[i] = i ** 2\n",
    "print(res)\n"
   ]
  },
  {
   "cell_type": "code",
   "execution_count": null,
   "id": "f850fb48",
   "metadata": {},
   "outputs": [
    {
     "name": "stdout",
     "output_type": "stream",
     "text": [
      "293\n"
     ]
    }
   ],
   "source": [
    "# Write a Python program to sum all the items in a dict1\n",
    "dict1 = {'data1': 100, 'data2': -54, 'data3': 247}\n",
    "\n",
    "##### YOUR CODE STARTS HERE ###########"
   ]
  },
  {
   "cell_type": "code",
   "execution_count": null,
   "id": "9dd0ef95",
   "metadata": {},
   "outputs": [
    {
     "name": "stdout",
     "output_type": "stream",
     "text": [
      "{'Cierra Vega': (162, 70), 'Alden Cantrell': (170, 65), 'Kierra Gentry': (180, 68)}\n"
     ]
    }
   ],
   "source": [
    "# Write a Python program to filter the (height , weight) of students, which are stored in a dictionary.\n",
    "# Filter out students who are below 162cm and are below and including 65 kg\n",
    "students = {\n",
    "    'Cierra Vega': (162, 70),\n",
    "    'Alden Cantrell': (170, 65),\n",
    "    'Kierra Gentry': (180, 68),\n",
    "    'Pierre Cox': (158, 66)\n",
    "}\n",
    "\n",
    "##### YOUR CODE STARTS HERE ###########\n",
    "\n",
    "\n",
    "#########################################\n",
    "# Answer: {'Cierra Vega': (162, 70), 'Alden Cantrell': (170, 65), 'Kierra Gentry': (180, 68)}"
   ]
  },
  {
   "cell_type": "code",
   "execution_count": null,
   "id": "3ea5b189",
   "metadata": {},
   "outputs": [],
   "source": []
  },
  {
   "cell_type": "markdown",
   "id": "50c1e2f9",
   "metadata": {},
   "source": []
  }
 ],
 "metadata": {
  "kernelspec": {
   "display_name": ".venv",
   "language": "python",
   "name": "python3"
  },
  "language_info": {
   "codemirror_mode": {
    "name": "ipython",
    "version": 3
   },
   "file_extension": ".py",
   "mimetype": "text/x-python",
   "name": "python",
   "nbconvert_exporter": "python",
   "pygments_lexer": "ipython3",
   "version": "3.12.4"
  }
 },
 "nbformat": 4,
 "nbformat_minor": 5
}
