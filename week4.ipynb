{
 "cells": [
  {
   "cell_type": "markdown",
   "id": "e0e781fc",
   "metadata": {},
   "source": [
    "### Week 4: Dictionaries, Tuples, and Sets\n",
    "\n",
    "- **Understanding dictionaries**: key-value pairs, adding and accessing values\n",
    "- **Tuples**: immutable sequences and how they differ from lists\n",
    "\n",
    "- **Common methods and operations**:\n",
    "  - For dictionaries: `.get()`, `.keys()`, `.values()`, `.items()`\n",
    "- **When to use each data structure in analytics**\n",
    "- **Practice**: \n",
    "  - Store and retrieve data using dictionaries\n",
    "  - Use tuples for fixed-size data (e.g., coordinates)\n",
    "  - Remove duplicates using sets  \n",
    "  - *Mini challenge*: simulate a simple lookup table using a dictionary\n"
   ]
  },
  {
   "cell_type": "markdown",
   "id": "23367136",
   "metadata": {},
   "source": [
    "## What is a Dictionary in Python?\n",
    "\n",
    "A **dictionary** is a built-in data structure in Python used to store data in **key-value pairs**. Each key is associated with a value, allowing for fast lookups and organized data storage.\n",
    "\n",
    "Example:\n",
    "\n",
    "```python\n",
    "student = {\n",
    "    \"name\": \"Alice\",\n",
    "    \"age\": 22,\n",
    "    \"major\": \"Data Science\"\n",
    "}\n",
    "```\n",
    "\"name\", \"age\", and \"major\" are keys\n",
    "\n",
    "\"Alice\", 22, and \"Data Science\" are their corresponding values\n",
    "\n",
    "**You can access a value using its key:**\n",
    "```py\n",
    "print(student[\"age\"])  # Output: 22\n",
    "```\n"
   ]
  },
  {
   "cell_type": "markdown",
   "id": "648ce6e0",
   "metadata": {},
   "source": [
    "### Rules for Dictionary Keys\n",
    "\n",
    "- **Keys must be unique**: If the same key appears more than once, the last value will overwrite any previous value.\n",
    "\n",
    "```python\n",
    "info = {\"x\": 1, \"x\": 99}\n",
    "print(info)  # Output: {'x': 99}\n"
   ]
  },
  {
   "cell_type": "markdown",
   "id": "7b738fb1",
   "metadata": {},
   "source": [
    "### Keys Must Be Immutable\n",
    "\n",
    "In Python dictionaries, **keys must be immutable**, meaning they cannot change after being created. This is because dictionaries use a hashing mechanism to store and retrieve keys efficiently, and mutable objects can change their hash, which would break the dictionary's internal structure.\n",
    "\n",
    "✅ Valid key types include:\n",
    "- Strings (`\"name\"`)\n",
    "- Numbers (`42`)\n",
    "- Tuples (`(1, 2)`)\n",
    "\n",
    "These are all immutable and safe to use as dictionary keys.\n",
    "\n",
    "❌ Invalid key types include:\n",
    "- Lists (`[1, 2]`)\n",
    "- Dictionaries (`{\"a\": 1}`)\n",
    "- Sets (`{1, 2}`)\n",
    "\n",
    "These are mutable and cannot be used as keys.\n",
    "\n",
    "Example of an invalid key:\n",
    "\n",
    "```python\n",
    "# ❌ Invalid: list is mutable and unhashable\n",
    "my_dict = {[1, 2]: \"value\"}  # TypeError: unhashable type: 'list'\n",
    "```"
   ]
  },
  {
   "cell_type": "markdown",
   "id": "30056149",
   "metadata": {},
   "source": [
    "### Hands on Quiz"
   ]
  },
  {
   "cell_type": "code",
   "execution_count": 4,
   "id": "9bcc3222",
   "metadata": {},
   "outputs": [
    {
     "name": "stdout",
     "output_type": "stream",
     "text": [
      "Correct!\n",
      "\n"
     ]
    }
   ],
   "source": [
    "info = {\"name\": \"Alice\", \"age\": 25}\n",
    "info[\"age\"] = info[\"age\"] + 1\n",
    "\n",
    "correct_answer = info['age']\n",
    "guess = None\n",
    "\n",
    "while guess != correct_answer:\n",
    "    try:\n",
    "        guess = int(input(\"Q1: What does `info['age']` become after the update? \"))\n",
    "        if guess != correct_answer:\n",
    "            print(\"Try again!\")\n",
    "    except ValueError:\n",
    "        print(\"Please enter a valid number.\")\n",
    "\n",
    "print(\"Correct!\\n\")\n"
   ]
  },
  {
   "cell_type": "code",
   "execution_count": null,
   "id": "897571bc",
   "metadata": {},
   "outputs": [
    {
     "name": "stdout",
     "output_type": "stream",
     "text": [
      "✅ Correct!\n",
      "\n"
     ]
    }
   ],
   "source": [
    "fruit_prices = {\"apple\": 1.2, \"banana\": 0.5}\n",
    "fruit_prices[\"apple\"] = fruit_prices[\"apple\"] * 2\n",
    "del fruit_prices[\"banana\"]\n",
    "\n",
    "correct_answer = fruit_prices\n",
    "guess = None\n",
    "\n",
    "while guess != correct_answer:\n",
    "    try:\n",
    "        guess = eval(input(\"Q3: What does `fruit_prices` look like at the end? \"))\n",
    "        if guess != correct_answer:\n",
    "            print(\"Try again!\")\n",
    "    except:\n",
    "        print(\"Please enter a valid dictionary\")\n",
    "\n",
    "print(\"✅ Correct!\\n\")\n"
   ]
  },
  {
   "cell_type": "markdown",
   "id": "50c1e2f9",
   "metadata": {},
   "source": []
  }
 ],
 "metadata": {
  "kernelspec": {
   "display_name": ".venv",
   "language": "python",
   "name": "python3"
  },
  "language_info": {
   "codemirror_mode": {
    "name": "ipython",
    "version": 3
   },
   "file_extension": ".py",
   "mimetype": "text/x-python",
   "name": "python",
   "nbconvert_exporter": "python",
   "pygments_lexer": "ipython3",
   "version": "3.12.4"
  }
 },
 "nbformat": 4,
 "nbformat_minor": 5
}
