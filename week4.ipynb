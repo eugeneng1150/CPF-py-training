{
 "cells": [
  {
   "cell_type": "markdown",
   "id": "e0e781fc",
   "metadata": {},
   "source": [
    "### Week 4: Dictionaries, Tuples, and Sets\n",
    "\n",
    "- **Understanding dictionaries**: key-value pairs, adding and accessing values\n",
    "- **Tuples**: immutable sequences and how they differ from lists\n",
    "\n",
    "- **Common methods and operations**:\n",
    "  - For dictionaries: `.get()`, `.keys()`, `.values()`, `.items()`\n",
    "- **When to use each data structure in analytics**\n",
    "- **Practice**: \n",
    "  - Store and retrieve data using dictionaries\n",
    "  - Use tuples for fixed-size data (e.g., coordinates)\n",
    "  - Remove duplicates using sets  \n",
    "  - *Mini challenge*: simulate a simple lookup table using a dictionary\n"
   ]
  },
  {
   "cell_type": "markdown",
   "id": "50c1e2f9",
   "metadata": {},
   "source": []
  }
 ],
 "metadata": {
  "kernelspec": {
   "display_name": ".venv",
   "language": "python",
   "name": "python3"
  },
  "language_info": {
   "name": "python",
   "version": "3.12.4"
  }
 },
 "nbformat": 4,
 "nbformat_minor": 5
}
